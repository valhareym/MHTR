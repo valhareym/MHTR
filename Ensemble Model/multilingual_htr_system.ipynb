{
 "cells": [
  {
   "cell_type": "code",
   "execution_count": 1,
   "id": "3bee13cb",
   "metadata": {},
   "outputs": [],
   "source": [
    "import numpy as np\n",
    "import cv2\n",
    "from tensorflow.keras.models import load_model\n",
    "from tensorflow.keras.preprocessing.image import load_img, img_to_array\n"
   ]
  },
  {
   "cell_type": "code",
   "execution_count": 3,
   "id": "7de0598d",
   "metadata": {},
   "outputs": [],
   "source": [
    "english_model = load_model('english/english.h5')\n",
    "devanagari_model = load_model('Devanagari/devangiri.h5')\n",
    "arabic_model = load_model('arabic/arabic.hdf5')"
   ]
  },
  {
   "cell_type": "code",
   "execution_count": 4,
   "id": "a5c88011",
   "metadata": {},
   "outputs": [],
   "source": [
    "def preprocess_english(image_path):\n",
    "    img = load_img(image_path, color_mode='rgb', target_size=(32, 32))\n",
    "    img = img_to_array(img)\n",
    "    img = np.expand_dims(img, axis=0)\n",
    "    img /= 255.0\n",
    "    return img\n",
    "\n",
    "def preprocess_devanagiri(image_path):\n",
    "    img = load_img(image_path, color_mode='rgb', target_size=(32, 32))\n",
    "    img = img_to_array(img)\n",
    "    img = np.expand_dims(img, axis=0)\n",
    "    img /= 255.0\n",
    "    return img\n",
    "\n",
    "def preprocess_arabic(image_path):\n",
    "    img = cv2.imread(image_path, cv2.IMREAD_GRAYSCALE)\n",
    "    img = cv2.resize(img, (32, 32))\n",
    "    img = img.reshape(1, 32, 32, 1)\n",
    "    img = img.astype('float32') / 255.0\n",
    "    return img\n"
   ]
  },
  {
   "cell_type": "code",
   "execution_count": 5,
   "id": "5248dc65",
   "metadata": {},
   "outputs": [],
   "source": [
    "def predict_english(image):\n",
    "    return english_model.predict(image)\n",
    "\n",
    "def predict_devanagiri(image):\n",
    "    return devanagiri_model.predict(image)\n",
    "\n",
    "def predict_arabic(image):\n",
    "    return arabic_model.predict(image)\n"
   ]
  },
  {
   "cell_type": "code",
   "execution_count": 7,
   "id": "a4cb1f29",
   "metadata": {},
   "outputs": [],
   "source": [
    "def evaluate_predictions(english_pred, devanagiri_pred, arabic_pred):\n",
    "    english_confidence = np.max(english_pred)\n",
    "    devanagiri_confidence = np.max(devanagiri_pred)\n",
    "    arabic_confidence = np.max(arabic_pred)\n",
    "\n",
    "    if english_confidence > devanagiri_confidence and english_confidence > arabic_confidence:\n",
    "        return \"English\", english_pred\n",
    "    elif devanagiri_confidence > arabic_confidence:\n",
    "        return \"Devanagiri\", devanagiri_pred\n",
    "    else:\n",
    "        return \"Arabic\", arabic_pred\n"
   ]
  },
  {
   "cell_type": "code",
   "execution_count": 8,
   "id": "5cc53fde",
   "metadata": {},
   "outputs": [
    {
     "ename": "ValueError",
     "evalue": "in user code:\n\n    File \"c:\\Users\\shreyas\\miniconda3\\envs\\torch\\lib\\site-packages\\keras\\src\\engine\\training.py\", line 2341, in predict_function  *\n        return step_function(self, iterator)\n    File \"c:\\Users\\shreyas\\miniconda3\\envs\\torch\\lib\\site-packages\\keras\\src\\engine\\training.py\", line 2327, in step_function  **\n        outputs = model.distribute_strategy.run(run_step, args=(data,))\n    File \"c:\\Users\\shreyas\\miniconda3\\envs\\torch\\lib\\site-packages\\keras\\src\\engine\\training.py\", line 2315, in run_step  **\n        outputs = model.predict_step(data)\n    File \"c:\\Users\\shreyas\\miniconda3\\envs\\torch\\lib\\site-packages\\keras\\src\\engine\\training.py\", line 2283, in predict_step\n        return self(x, training=False)\n    File \"c:\\Users\\shreyas\\miniconda3\\envs\\torch\\lib\\site-packages\\keras\\src\\utils\\traceback_utils.py\", line 70, in error_handler\n        raise e.with_traceback(filtered_tb) from None\n    File \"c:\\Users\\shreyas\\miniconda3\\envs\\torch\\lib\\site-packages\\keras\\src\\engine\\input_spec.py\", line 280, in assert_input_compatibility\n        raise ValueError(\n\n    ValueError: Exception encountered when calling layer 'sequential' (type Sequential).\n    \n    Input 0 of layer \"conv2d\" is incompatible with the layer: expected axis -1 of input shape to have value 1, but received input with shape (None, 32, 32, 3)\n    \n    Call arguments received by layer 'sequential' (type Sequential):\n      • inputs=tf.Tensor(shape=(None, 32, 32, 3), dtype=float32)\n      • training=False\n      • mask=None\n",
     "output_type": "error",
     "traceback": [
      "\u001b[1;31m---------------------------------------------------------------------------\u001b[0m",
      "\u001b[1;31mValueError\u001b[0m                                Traceback (most recent call last)",
      "Cell \u001b[1;32mIn[8], line 15\u001b[0m\n\u001b[0;32m     13\u001b[0m \u001b[39m# Example usage\u001b[39;00m\n\u001b[0;32m     14\u001b[0m image_path \u001b[39m=\u001b[39m \u001b[39m\"\u001b[39m\u001b[39marabic/arabic3.png\u001b[39m\u001b[39m\"\u001b[39m\n\u001b[1;32m---> 15\u001b[0m language, prediction \u001b[39m=\u001b[39m unified_predict(image_path)\n\u001b[0;32m     16\u001b[0m \u001b[39mprint\u001b[39m(\u001b[39mf\u001b[39m\u001b[39m\"\u001b[39m\u001b[39mPredicted Language: \u001b[39m\u001b[39m{\u001b[39;00mlanguage\u001b[39m}\u001b[39;00m\u001b[39m\"\u001b[39m)\n\u001b[0;32m     17\u001b[0m \u001b[39mprint\u001b[39m(\u001b[39mf\u001b[39m\u001b[39m\"\u001b[39m\u001b[39mPrediction: \u001b[39m\u001b[39m{\u001b[39;00mprediction\u001b[39m}\u001b[39;00m\u001b[39m\"\u001b[39m)\n",
      "Cell \u001b[1;32mIn[8], line 6\u001b[0m, in \u001b[0;36munified_predict\u001b[1;34m(image_path)\u001b[0m\n\u001b[0;32m      3\u001b[0m devanagiri_image \u001b[39m=\u001b[39m preprocess_devanagiri(image_path)\n\u001b[0;32m      4\u001b[0m arabic_image \u001b[39m=\u001b[39m preprocess_arabic(image_path)\n\u001b[1;32m----> 6\u001b[0m english_pred \u001b[39m=\u001b[39m predict_english(english_image)\n\u001b[0;32m      7\u001b[0m devanagiri_pred \u001b[39m=\u001b[39m predict_devanagiri(devanagiri_image)\n\u001b[0;32m      8\u001b[0m arabic_pred \u001b[39m=\u001b[39m predict_arabic(arabic_image)\n",
      "Cell \u001b[1;32mIn[5], line 2\u001b[0m, in \u001b[0;36mpredict_english\u001b[1;34m(image)\u001b[0m\n\u001b[0;32m      1\u001b[0m \u001b[39mdef\u001b[39;00m \u001b[39mpredict_english\u001b[39m(image):\n\u001b[1;32m----> 2\u001b[0m     \u001b[39mreturn\u001b[39;00m english_model\u001b[39m.\u001b[39;49mpredict(image)\n",
      "File \u001b[1;32mc:\\Users\\shreyas\\miniconda3\\envs\\torch\\lib\\site-packages\\keras\\src\\utils\\traceback_utils.py:70\u001b[0m, in \u001b[0;36mfilter_traceback.<locals>.error_handler\u001b[1;34m(*args, **kwargs)\u001b[0m\n\u001b[0;32m     67\u001b[0m     filtered_tb \u001b[39m=\u001b[39m _process_traceback_frames(e\u001b[39m.\u001b[39m__traceback__)\n\u001b[0;32m     68\u001b[0m     \u001b[39m# To get the full stack trace, call:\u001b[39;00m\n\u001b[0;32m     69\u001b[0m     \u001b[39m# `tf.debugging.disable_traceback_filtering()`\u001b[39;00m\n\u001b[1;32m---> 70\u001b[0m     \u001b[39mraise\u001b[39;00m e\u001b[39m.\u001b[39mwith_traceback(filtered_tb) \u001b[39mfrom\u001b[39;00m \u001b[39mNone\u001b[39;00m\n\u001b[0;32m     71\u001b[0m \u001b[39mfinally\u001b[39;00m:\n\u001b[0;32m     72\u001b[0m     \u001b[39mdel\u001b[39;00m filtered_tb\n",
      "File \u001b[1;32m~\\AppData\\Local\\Temp\\__autograph_generated_filecf42azjq.py:15\u001b[0m, in \u001b[0;36mouter_factory.<locals>.inner_factory.<locals>.tf__predict_function\u001b[1;34m(iterator)\u001b[0m\n\u001b[0;32m     13\u001b[0m \u001b[39mtry\u001b[39;00m:\n\u001b[0;32m     14\u001b[0m     do_return \u001b[39m=\u001b[39m \u001b[39mTrue\u001b[39;00m\n\u001b[1;32m---> 15\u001b[0m     retval_ \u001b[39m=\u001b[39m ag__\u001b[39m.\u001b[39mconverted_call(ag__\u001b[39m.\u001b[39mld(step_function), (ag__\u001b[39m.\u001b[39mld(\u001b[39mself\u001b[39m), ag__\u001b[39m.\u001b[39mld(iterator)), \u001b[39mNone\u001b[39;00m, fscope)\n\u001b[0;32m     16\u001b[0m \u001b[39mexcept\u001b[39;00m:\n\u001b[0;32m     17\u001b[0m     do_return \u001b[39m=\u001b[39m \u001b[39mFalse\u001b[39;00m\n",
      "\u001b[1;31mValueError\u001b[0m: in user code:\n\n    File \"c:\\Users\\shreyas\\miniconda3\\envs\\torch\\lib\\site-packages\\keras\\src\\engine\\training.py\", line 2341, in predict_function  *\n        return step_function(self, iterator)\n    File \"c:\\Users\\shreyas\\miniconda3\\envs\\torch\\lib\\site-packages\\keras\\src\\engine\\training.py\", line 2327, in step_function  **\n        outputs = model.distribute_strategy.run(run_step, args=(data,))\n    File \"c:\\Users\\shreyas\\miniconda3\\envs\\torch\\lib\\site-packages\\keras\\src\\engine\\training.py\", line 2315, in run_step  **\n        outputs = model.predict_step(data)\n    File \"c:\\Users\\shreyas\\miniconda3\\envs\\torch\\lib\\site-packages\\keras\\src\\engine\\training.py\", line 2283, in predict_step\n        return self(x, training=False)\n    File \"c:\\Users\\shreyas\\miniconda3\\envs\\torch\\lib\\site-packages\\keras\\src\\utils\\traceback_utils.py\", line 70, in error_handler\n        raise e.with_traceback(filtered_tb) from None\n    File \"c:\\Users\\shreyas\\miniconda3\\envs\\torch\\lib\\site-packages\\keras\\src\\engine\\input_spec.py\", line 280, in assert_input_compatibility\n        raise ValueError(\n\n    ValueError: Exception encountered when calling layer 'sequential' (type Sequential).\n    \n    Input 0 of layer \"conv2d\" is incompatible with the layer: expected axis -1 of input shape to have value 1, but received input with shape (None, 32, 32, 3)\n    \n    Call arguments received by layer 'sequential' (type Sequential):\n      • inputs=tf.Tensor(shape=(None, 32, 32, 3), dtype=float32)\n      • training=False\n      • mask=None\n"
     ]
    }
   ],
   "source": [
    "def unified_predict(image_path):\n",
    "    english_image = preprocess_english(image_path)\n",
    "    devanagiri_image = preprocess_devanagiri(image_path)\n",
    "    arabic_image = preprocess_arabic(image_path)\n",
    "\n",
    "    english_pred = predict_english(english_image)\n",
    "    devanagiri_pred = predict_devanagiri(devanagiri_image)\n",
    "    arabic_pred = predict_arabic(arabic_image)\n",
    "\n",
    "    language, prediction = evaluate_predictions(english_pred, devanagiri_pred, arabic_pred)\n",
    "    return language, prediction\n",
    "\n",
    "# Example usage\n",
    "image_path = \"arabic/arabic3.png\"\n",
    "language, prediction = unified_predict(image_path)\n",
    "print(f\"Predicted Language: {language}\")\n",
    "print(f\"Prediction: {prediction}\")\n"
   ]
  }
 ],
 "metadata": {
  "kernelspec": {
   "display_name": "torch",
   "language": "python",
   "name": "python3"
  },
  "language_info": {
   "codemirror_mode": {
    "name": "ipython",
    "version": 3
   },
   "file_extension": ".py",
   "mimetype": "text/x-python",
   "name": "python",
   "nbconvert_exporter": "python",
   "pygments_lexer": "ipython3",
   "version": "3.9.17"
  }
 },
 "nbformat": 4,
 "nbformat_minor": 5
}
