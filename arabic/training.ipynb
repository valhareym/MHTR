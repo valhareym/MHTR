{
 "cells": [
  {
   "cell_type": "code",
   "execution_count": 2,
   "id": "578ec14f",
   "metadata": {
    "execution": {
     "iopub.execute_input": "2023-06-12T14:41:28.176107Z",
     "iopub.status.busy": "2023-06-12T14:41:28.175775Z",
     "iopub.status.idle": "2023-06-12T14:41:37.337129Z",
     "shell.execute_reply": "2023-06-12T14:41:37.336087Z"
    },
    "papermill": {
     "duration": 9.175209,
     "end_time": "2023-06-12T14:41:37.340057",
     "exception": false,
     "start_time": "2023-06-12T14:41:28.164848",
     "status": "completed"
    },
    "tags": []
   },
   "outputs": [
    {
     "name": "stderr",
     "output_type": "stream",
     "text": [
      "/opt/conda/lib/python3.10/site-packages/tensorflow_io/python/ops/__init__.py:98: UserWarning: unable to load libtensorflow_io_plugins.so: unable to open file: libtensorflow_io_plugins.so, from paths: ['/opt/conda/lib/python3.10/site-packages/tensorflow_io/python/ops/libtensorflow_io_plugins.so']\n",
      "caused by: ['/opt/conda/lib/python3.10/site-packages/tensorflow_io/python/ops/libtensorflow_io_plugins.so: undefined symbol: _ZN3tsl6StatusC1EN10tensorflow5error4CodeESt17basic_string_viewIcSt11char_traitsIcEENS_14SourceLocationE']\n",
      "  warnings.warn(f\"unable to load libtensorflow_io_plugins.so: {e}\")\n",
      "/opt/conda/lib/python3.10/site-packages/tensorflow_io/python/ops/__init__.py:104: UserWarning: file system plugins are not loaded: unable to open file: libtensorflow_io.so, from paths: ['/opt/conda/lib/python3.10/site-packages/tensorflow_io/python/ops/libtensorflow_io.so']\n",
      "caused by: ['/opt/conda/lib/python3.10/site-packages/tensorflow_io/python/ops/libtensorflow_io.so: undefined symbol: _ZTVN10tensorflow13GcsFileSystemE']\n",
      "  warnings.warn(f\"file system plugins are not loaded: {e}\")\n"
     ]
    }
   ],
   "source": [
    "# Importing necessary libraries for data analysis and visualization\n",
    "import numpy as np\n",
    "import pandas as pd\n",
    "import matplotlib.pyplot as plt\n",
    "import seaborn as sn\n",
    "import numpy as np\n",
    "\n",
    "# Importing libraries for interactive plotting\n",
    "import plotly.express as px\n",
    "import plotly.graph_objects as go\n",
    "\n",
    "# Importing TensorFlow for deep learning tasks\n",
    "import tensorflow as tf\n",
    "from tensorflow.keras.utils import to_categorical\n",
    "from tensorflow.keras.models import Sequential,load_model\n",
    "from tensorflow.keras.layers import Conv2D, MaxPooling2D, BatchNormalization, Flatten, Dense, Dropout\n",
    "from tensorflow.keras.preprocessing.image import ImageDataGenerator\n",
    "from tensorflow.keras.callbacks import ModelCheckpoint\n",
    "from tensorflow.keras.utils import plot_model\n",
    "from sklearn.metrics import confusion_matrix\n",
    "# Importing OpenCV for computer vision tasks\n",
    "import cv2"
   ]
  },
  {
   "cell_type": "code",
   "execution_count": 3,
   "id": "6c4c1508",
   "metadata": {
    "execution": {
     "iopub.execute_input": "2023-06-12T14:41:37.386027Z",
     "iopub.status.busy": "2023-06-12T14:41:37.385238Z",
     "iopub.status.idle": "2023-06-12T14:41:38.974462Z",
     "shell.execute_reply": "2023-06-12T14:41:38.973475Z"
    },
    "papermill": {
     "duration": 1.603556,
     "end_time": "2023-06-12T14:41:38.976996",
     "exception": false,
     "start_time": "2023-06-12T14:41:37.373440",
     "status": "completed"
    },
    "tags": []
   },
   "outputs": [],
   "source": [
    "Train_Images = pd.read_csv(\"/kaggle/input/ahcd1/csvTrainImages 13440x1024.csv\")\n",
    "Train_Labels = pd.read_csv(\"/kaggle/input/ahcd1/csvTrainLabel 13440x1.csv\")"
   ]
  },
  {
   "cell_type": "code",
   "execution_count": 4,
   "id": "208a4add",
   "metadata": {
    "execution": {
     "iopub.execute_input": "2023-06-12T14:41:38.998978Z",
     "iopub.status.busy": "2023-06-12T14:41:38.998031Z",
     "iopub.status.idle": "2023-06-12T14:41:39.383238Z",
     "shell.execute_reply": "2023-06-12T14:41:39.382328Z"
    },
    "papermill": {
     "duration": 0.398492,
     "end_time": "2023-06-12T14:41:39.385836",
     "exception": false,
     "start_time": "2023-06-12T14:41:38.987344",
     "status": "completed"
    },
    "tags": []
   },
   "outputs": [],
   "source": [
    "Test_Images = pd.read_csv(\"/kaggle/input/ahcd1/csvTestImages 3360x1024.csv\")\n",
    "Test_Labels = pd.read_csv(\"/kaggle/input/ahcd1/csvTestLabel 3360x1.csv\")"
   ]
  },
  {
   "cell_type": "code",
   "execution_count": 5,
   "id": "d4b488b6",
   "metadata": {
    "execution": {
     "iopub.execute_input": "2023-06-12T14:41:39.408103Z",
     "iopub.status.busy": "2023-06-12T14:41:39.406700Z",
     "iopub.status.idle": "2023-06-12T14:41:39.412431Z",
     "shell.execute_reply": "2023-06-12T14:41:39.411294Z"
    },
    "papermill": {
     "duration": 0.018395,
     "end_time": "2023-06-12T14:41:39.414285",
     "exception": false,
     "start_time": "2023-06-12T14:41:39.395890",
     "status": "completed"
    },
    "tags": []
   },
   "outputs": [
    {
     "name": "stdout",
     "output_type": "stream",
     "text": [
      "Train Iamges : (13439, 1024)\n",
      "Test  Iamges : (3359, 1024)\n"
     ]
    }
   ],
   "source": [
    "print(f\"Train Iamges : {Train_Images.shape}\")\n",
    "print(f\"Test  Iamges : {Test_Images.shape}\")"
   ]
  },
  {
   "cell_type": "code",
   "execution_count": 6,
   "id": "1338e9c2",
   "metadata": {
    "execution": {
     "iopub.execute_input": "2023-06-12T14:41:39.434967Z",
     "iopub.status.busy": "2023-06-12T14:41:39.434700Z",
     "iopub.status.idle": "2023-06-12T14:41:39.439345Z",
     "shell.execute_reply": "2023-06-12T14:41:39.438509Z"
    },
    "papermill": {
     "duration": 0.017454,
     "end_time": "2023-06-12T14:41:39.441667",
     "exception": false,
     "start_time": "2023-06-12T14:41:39.424213",
     "status": "completed"
    },
    "tags": []
   },
   "outputs": [
    {
     "name": "stdout",
     "output_type": "stream",
     "text": [
      "Train Labels : (13439, 1)\n",
      "Test  Labels : (3359, 1)\n"
     ]
    }
   ],
   "source": [
    "print(f\"Train Labels : {Train_Labels.shape}\")\n",
    "print(f\"Test  Labels : {Test_Labels.shape}\")"
   ]
  },
  {
   "cell_type": "code",
   "execution_count": 7,
   "id": "aa7d4a1b",
   "metadata": {
    "execution": {
     "iopub.execute_input": "2023-06-12T14:41:39.462304Z",
     "iopub.status.busy": "2023-06-12T14:41:39.462050Z",
     "iopub.status.idle": "2023-06-12T14:41:39.518471Z",
     "shell.execute_reply": "2023-06-12T14:41:39.517225Z"
    },
    "papermill": {
     "duration": 0.068882,
     "end_time": "2023-06-12T14:41:39.520530",
     "exception": false,
     "start_time": "2023-06-12T14:41:39.451648",
     "status": "completed"
    },
    "tags": []
   },
   "outputs": [
    {
     "name": "stdout",
     "output_type": "stream",
     "text": [
      "<class 'pandas.core.frame.DataFrame'>\n",
      "RangeIndex: 13439 entries, 0 to 13438\n",
      "Columns: 1024 entries, 0 to 0.905\n",
      "dtypes: int64(1024)\n",
      "memory usage: 105.0 MB\n"
     ]
    }
   ],
   "source": [
    "Train_Images.info()"
   ]
  },
  {
   "cell_type": "code",
   "execution_count": 8,
   "id": "72a937de",
   "metadata": {
    "execution": {
     "iopub.execute_input": "2023-06-12T14:41:39.541969Z",
     "iopub.status.busy": "2023-06-12T14:41:39.541675Z",
     "iopub.status.idle": "2023-06-12T14:41:39.551550Z",
     "shell.execute_reply": "2023-06-12T14:41:39.550573Z"
    },
    "papermill": {
     "duration": 0.024651,
     "end_time": "2023-06-12T14:41:39.555407",
     "exception": false,
     "start_time": "2023-06-12T14:41:39.530756",
     "status": "completed"
    },
    "tags": []
   },
   "outputs": [
    {
     "name": "stdout",
     "output_type": "stream",
     "text": [
      "<class 'pandas.core.frame.DataFrame'>\n",
      "RangeIndex: 13439 entries, 0 to 13438\n",
      "Data columns (total 1 columns):\n",
      " #   Column  Non-Null Count  Dtype\n",
      "---  ------  --------------  -----\n",
      " 0   1       13439 non-null  int64\n",
      "dtypes: int64(1)\n",
      "memory usage: 105.1 KB\n"
     ]
    }
   ],
   "source": [
    "Train_Labels.info()"
   ]
  },
  {
   "cell_type": "code",
   "execution_count": 9,
   "id": "fc8706a6",
   "metadata": {
    "execution": {
     "iopub.execute_input": "2023-06-12T14:41:39.576283Z",
     "iopub.status.busy": "2023-06-12T14:41:39.576020Z",
     "iopub.status.idle": "2023-06-12T14:41:39.621331Z",
     "shell.execute_reply": "2023-06-12T14:41:39.620042Z"
    },
    "papermill": {
     "duration": 0.057999,
     "end_time": "2023-06-12T14:41:39.623332",
     "exception": false,
     "start_time": "2023-06-12T14:41:39.565333",
     "status": "completed"
    },
    "tags": []
   },
   "outputs": [
    {
     "name": "stdout",
     "output_type": "stream",
     "text": [
      "<class 'pandas.core.frame.DataFrame'>\n",
      "RangeIndex: 3359 entries, 0 to 3358\n",
      "Columns: 1024 entries, 0 to 0.928\n",
      "dtypes: int64(1024)\n",
      "memory usage: 26.2 MB\n"
     ]
    }
   ],
   "source": [
    "Test_Images.info()"
   ]
  },
  {
   "cell_type": "code",
   "execution_count": 10,
   "id": "034f901f",
   "metadata": {
    "execution": {
     "iopub.execute_input": "2023-06-12T14:41:39.645720Z",
     "iopub.status.busy": "2023-06-12T14:41:39.644930Z",
     "iopub.status.idle": "2023-06-12T14:41:39.654862Z",
     "shell.execute_reply": "2023-06-12T14:41:39.653867Z"
    },
    "papermill": {
     "duration": 0.0242,
     "end_time": "2023-06-12T14:41:39.657867",
     "exception": false,
     "start_time": "2023-06-12T14:41:39.633667",
     "status": "completed"
    },
    "tags": []
   },
   "outputs": [
    {
     "name": "stdout",
     "output_type": "stream",
     "text": [
      "<class 'pandas.core.frame.DataFrame'>\n",
      "RangeIndex: 3359 entries, 0 to 3358\n",
      "Data columns (total 1 columns):\n",
      " #   Column  Non-Null Count  Dtype\n",
      "---  ------  --------------  -----\n",
      " 0   1       3359 non-null   int64\n",
      "dtypes: int64(1)\n",
      "memory usage: 26.4 KB\n"
     ]
    }
   ],
   "source": [
    "Test_Labels.info()"
   ]
  },
  {
   "cell_type": "code",
   "execution_count": 11,
   "id": "c084c007",
   "metadata": {
    "execution": {
     "iopub.execute_input": "2023-06-12T14:41:39.679637Z",
     "iopub.status.busy": "2023-06-12T14:41:39.679363Z",
     "iopub.status.idle": "2023-06-12T14:41:39.700383Z",
     "shell.execute_reply": "2023-06-12T14:41:39.699392Z"
    },
    "papermill": {
     "duration": 0.034653,
     "end_time": "2023-06-12T14:41:39.702911",
     "exception": false,
     "start_time": "2023-06-12T14:41:39.668258",
     "status": "completed"
    },
    "tags": []
   },
   "outputs": [
    {
     "data": {
      "text/html": [
       "<div>\n",
       "<style scoped>\n",
       "    .dataframe tbody tr th:only-of-type {\n",
       "        vertical-align: middle;\n",
       "    }\n",
       "\n",
       "    .dataframe tbody tr th {\n",
       "        vertical-align: top;\n",
       "    }\n",
       "\n",
       "    .dataframe thead th {\n",
       "        text-align: right;\n",
       "    }\n",
       "</style>\n",
       "<table border=\"1\" class=\"dataframe\">\n",
       "  <thead>\n",
       "    <tr style=\"text-align: right;\">\n",
       "      <th></th>\n",
       "      <th>0</th>\n",
       "      <th>0.1</th>\n",
       "      <th>0.2</th>\n",
       "      <th>0.3</th>\n",
       "      <th>0.4</th>\n",
       "      <th>0.5</th>\n",
       "      <th>0.6</th>\n",
       "      <th>0.7</th>\n",
       "      <th>0.8</th>\n",
       "      <th>0.9</th>\n",
       "      <th>...</th>\n",
       "      <th>0.896</th>\n",
       "      <th>0.897</th>\n",
       "      <th>0.898</th>\n",
       "      <th>0.899</th>\n",
       "      <th>0.900</th>\n",
       "      <th>0.901</th>\n",
       "      <th>0.902</th>\n",
       "      <th>0.903</th>\n",
       "      <th>0.904</th>\n",
       "      <th>0.905</th>\n",
       "    </tr>\n",
       "  </thead>\n",
       "  <tbody>\n",
       "    <tr>\n",
       "      <th>0</th>\n",
       "      <td>0</td>\n",
       "      <td>0</td>\n",
       "      <td>0</td>\n",
       "      <td>0</td>\n",
       "      <td>0</td>\n",
       "      <td>0</td>\n",
       "      <td>0</td>\n",
       "      <td>0</td>\n",
       "      <td>0</td>\n",
       "      <td>0</td>\n",
       "      <td>...</td>\n",
       "      <td>0</td>\n",
       "      <td>0</td>\n",
       "      <td>0</td>\n",
       "      <td>0</td>\n",
       "      <td>0</td>\n",
       "      <td>0</td>\n",
       "      <td>0</td>\n",
       "      <td>0</td>\n",
       "      <td>0</td>\n",
       "      <td>0</td>\n",
       "    </tr>\n",
       "    <tr>\n",
       "      <th>1</th>\n",
       "      <td>0</td>\n",
       "      <td>0</td>\n",
       "      <td>0</td>\n",
       "      <td>0</td>\n",
       "      <td>0</td>\n",
       "      <td>0</td>\n",
       "      <td>0</td>\n",
       "      <td>0</td>\n",
       "      <td>0</td>\n",
       "      <td>0</td>\n",
       "      <td>...</td>\n",
       "      <td>0</td>\n",
       "      <td>0</td>\n",
       "      <td>0</td>\n",
       "      <td>0</td>\n",
       "      <td>0</td>\n",
       "      <td>0</td>\n",
       "      <td>0</td>\n",
       "      <td>0</td>\n",
       "      <td>0</td>\n",
       "      <td>0</td>\n",
       "    </tr>\n",
       "    <tr>\n",
       "      <th>2</th>\n",
       "      <td>0</td>\n",
       "      <td>0</td>\n",
       "      <td>0</td>\n",
       "      <td>0</td>\n",
       "      <td>0</td>\n",
       "      <td>0</td>\n",
       "      <td>0</td>\n",
       "      <td>0</td>\n",
       "      <td>0</td>\n",
       "      <td>0</td>\n",
       "      <td>...</td>\n",
       "      <td>0</td>\n",
       "      <td>0</td>\n",
       "      <td>0</td>\n",
       "      <td>0</td>\n",
       "      <td>0</td>\n",
       "      <td>0</td>\n",
       "      <td>0</td>\n",
       "      <td>0</td>\n",
       "      <td>0</td>\n",
       "      <td>0</td>\n",
       "    </tr>\n",
       "    <tr>\n",
       "      <th>3</th>\n",
       "      <td>0</td>\n",
       "      <td>0</td>\n",
       "      <td>0</td>\n",
       "      <td>0</td>\n",
       "      <td>0</td>\n",
       "      <td>0</td>\n",
       "      <td>0</td>\n",
       "      <td>0</td>\n",
       "      <td>0</td>\n",
       "      <td>0</td>\n",
       "      <td>...</td>\n",
       "      <td>0</td>\n",
       "      <td>0</td>\n",
       "      <td>0</td>\n",
       "      <td>0</td>\n",
       "      <td>0</td>\n",
       "      <td>0</td>\n",
       "      <td>0</td>\n",
       "      <td>0</td>\n",
       "      <td>0</td>\n",
       "      <td>0</td>\n",
       "    </tr>\n",
       "    <tr>\n",
       "      <th>4</th>\n",
       "      <td>0</td>\n",
       "      <td>0</td>\n",
       "      <td>0</td>\n",
       "      <td>0</td>\n",
       "      <td>0</td>\n",
       "      <td>0</td>\n",
       "      <td>0</td>\n",
       "      <td>0</td>\n",
       "      <td>0</td>\n",
       "      <td>0</td>\n",
       "      <td>...</td>\n",
       "      <td>0</td>\n",
       "      <td>0</td>\n",
       "      <td>0</td>\n",
       "      <td>0</td>\n",
       "      <td>0</td>\n",
       "      <td>0</td>\n",
       "      <td>0</td>\n",
       "      <td>0</td>\n",
       "      <td>0</td>\n",
       "      <td>0</td>\n",
       "    </tr>\n",
       "  </tbody>\n",
       "</table>\n",
       "<p>5 rows × 1024 columns</p>\n",
       "</div>"
      ],
      "text/plain": [
       "   0  0.1  0.2  0.3  0.4  0.5  0.6  0.7  0.8  0.9  ...  0.896  0.897  0.898  \\\n",
       "0  0    0    0    0    0    0    0    0    0    0  ...      0      0      0   \n",
       "1  0    0    0    0    0    0    0    0    0    0  ...      0      0      0   \n",
       "2  0    0    0    0    0    0    0    0    0    0  ...      0      0      0   \n",
       "3  0    0    0    0    0    0    0    0    0    0  ...      0      0      0   \n",
       "4  0    0    0    0    0    0    0    0    0    0  ...      0      0      0   \n",
       "\n",
       "   0.899  0.900  0.901  0.902  0.903  0.904  0.905  \n",
       "0      0      0      0      0      0      0      0  \n",
       "1      0      0      0      0      0      0      0  \n",
       "2      0      0      0      0      0      0      0  \n",
       "3      0      0      0      0      0      0      0  \n",
       "4      0      0      0      0      0      0      0  \n",
       "\n",
       "[5 rows x 1024 columns]"
      ]
     },
     "execution_count": 11,
     "metadata": {},
     "output_type": "execute_result"
    }
   ],
   "source": [
    "Train_Images.head()"
   ]
  },
  {
   "cell_type": "code",
   "execution_count": 12,
   "id": "a8c69dd1",
   "metadata": {
    "execution": {
     "iopub.execute_input": "2023-06-12T14:41:39.725607Z",
     "iopub.status.busy": "2023-06-12T14:41:39.725288Z",
     "iopub.status.idle": "2023-06-12T14:41:39.743328Z",
     "shell.execute_reply": "2023-06-12T14:41:39.742409Z"
    },
    "papermill": {
     "duration": 0.031541,
     "end_time": "2023-06-12T14:41:39.745453",
     "exception": false,
     "start_time": "2023-06-12T14:41:39.713912",
     "status": "completed"
    },
    "tags": []
   },
   "outputs": [
    {
     "data": {
      "text/plain": [
       "0        0\n",
       "0.1      0\n",
       "0.2      0\n",
       "0.3      0\n",
       "0.4      0\n",
       "        ..\n",
       "0.901    0\n",
       "0.902    0\n",
       "0.903    0\n",
       "0.904    0\n",
       "0.905    0\n",
       "Length: 1024, dtype: int64"
      ]
     },
     "execution_count": 12,
     "metadata": {},
     "output_type": "execute_result"
    }
   ],
   "source": [
    "Train_Images.isnull().sum()"
   ]
  },
  {
   "cell_type": "code",
   "execution_count": 13,
   "id": "5ade0c62",
   "metadata": {
    "execution": {
     "iopub.execute_input": "2023-06-12T14:41:39.768383Z",
     "iopub.status.busy": "2023-06-12T14:41:39.767602Z",
     "iopub.status.idle": "2023-06-12T14:41:39.778299Z",
     "shell.execute_reply": "2023-06-12T14:41:39.777300Z"
    },
    "papermill": {
     "duration": 0.024286,
     "end_time": "2023-06-12T14:41:39.780452",
     "exception": false,
     "start_time": "2023-06-12T14:41:39.756166",
     "status": "completed"
    },
    "tags": []
   },
   "outputs": [
    {
     "data": {
      "text/plain": [
       "0        0\n",
       "0.1      0\n",
       "0.2      0\n",
       "0.3      0\n",
       "0.4      0\n",
       "        ..\n",
       "0.924    0\n",
       "0.925    0\n",
       "0.926    0\n",
       "0.927    0\n",
       "0.928    0\n",
       "Length: 1024, dtype: int64"
      ]
     },
     "execution_count": 13,
     "metadata": {},
     "output_type": "execute_result"
    }
   ],
   "source": [
    "Test_Images.isnull().sum()"
   ]
  },
  {
   "cell_type": "code",
   "execution_count": 14,
   "id": "46efbe96",
   "metadata": {
    "execution": {
     "iopub.execute_input": "2023-06-12T14:41:39.804048Z",
     "iopub.status.busy": "2023-06-12T14:41:39.803262Z",
     "iopub.status.idle": "2023-06-12T14:41:39.810682Z",
     "shell.execute_reply": "2023-06-12T14:41:39.809704Z"
    },
    "papermill": {
     "duration": 0.021584,
     "end_time": "2023-06-12T14:41:39.813115",
     "exception": false,
     "start_time": "2023-06-12T14:41:39.791531",
     "status": "completed"
    },
    "tags": []
   },
   "outputs": [
    {
     "data": {
      "text/plain": [
       "1    0\n",
       "dtype: int64"
      ]
     },
     "execution_count": 14,
     "metadata": {},
     "output_type": "execute_result"
    }
   ],
   "source": [
    "Train_Labels.isnull().sum()"
   ]
  },
  {
   "cell_type": "code",
   "execution_count": 15,
   "id": "30ad9708",
   "metadata": {
    "execution": {
     "iopub.execute_input": "2023-06-12T14:41:39.836567Z",
     "iopub.status.busy": "2023-06-12T14:41:39.835797Z",
     "iopub.status.idle": "2023-06-12T14:41:39.843344Z",
     "shell.execute_reply": "2023-06-12T14:41:39.842378Z"
    },
    "papermill": {
     "duration": 0.021686,
     "end_time": "2023-06-12T14:41:39.845749",
     "exception": false,
     "start_time": "2023-06-12T14:41:39.824063",
     "status": "completed"
    },
    "tags": []
   },
   "outputs": [
    {
     "data": {
      "text/plain": [
       "1    0\n",
       "dtype: int64"
      ]
     },
     "execution_count": 15,
     "metadata": {},
     "output_type": "execute_result"
    }
   ],
   "source": [
    "Test_Labels.isnull().sum()"
   ]
  },
  {
   "cell_type": "code",
   "execution_count": 16,
   "id": "159568da",
   "metadata": {
    "execution": {
     "iopub.execute_input": "2023-06-12T14:41:39.869434Z",
     "iopub.status.busy": "2023-06-12T14:41:39.868556Z",
     "iopub.status.idle": "2023-06-12T14:41:40.005452Z",
     "shell.execute_reply": "2023-06-12T14:41:40.004420Z"
    },
    "papermill": {
     "duration": 0.150996,
     "end_time": "2023-06-12T14:41:40.007765",
     "exception": false,
     "start_time": "2023-06-12T14:41:39.856769",
     "status": "completed"
    },
    "tags": []
   },
   "outputs": [
    {
     "data": {
      "text/html": [
       "        <script type=\"text/javascript\">\n",
       "        window.PlotlyConfig = {MathJaxConfig: 'local'};\n",
       "        if (window.MathJax && window.MathJax.Hub && window.MathJax.Hub.Config) {window.MathJax.Hub.Config({SVG: {font: \"STIX-Web\"}});}\n",
       "        if (typeof require !== 'undefined') {\n",
       "        require.undef(\"plotly\");\n",
       "        requirejs.config({\n",
       "            paths: {\n",
       "                'plotly': ['https://cdn.plot.ly/plotly-2.20.0.min']\n",
       "            }\n",
       "        });\n",
       "        require(['plotly'], function(Plotly) {\n",
       "            window._Plotly = Plotly;\n",
       "        });\n",
       "        }\n",
       "        </script>\n",
       "        "
      ]
     },
     "metadata": {},
     "output_type": "display_data"
    },
    {
     "data": {
      "text/html": [
       "<div>                            <div id=\"e37b3059-997f-4f1c-91d7-e59e19c7737f\" class=\"plotly-graph-div\" style=\"height:525px; width:100%;\"></div>            <script type=\"text/javascript\">                require([\"plotly\"], function(Plotly) {                    window.PLOTLYENV=window.PLOTLYENV || {};                                    if (document.getElementById(\"e37b3059-997f-4f1c-91d7-e59e19c7737f\")) {                    Plotly.newPlot(                        \"e37b3059-997f-4f1c-91d7-e59e19c7737f\",                        [{\"hole\":0.6,\"insidetextorientation\":\"radial\",\"labels\":[[15],[2],[27],[26],[25],[24],[23],[22],[21],[20],[19],[18],[17],[16],[28],[14],[13],[12],[11],[10],[9],[8],[7],[6],[5],[4],[3],[1]],\"marker\":{\"colors\":[\"#1f77b4\",\"#ff7f0e\",\"#2ca02c\",\"#d62728\"],\"line\":{\"color\":\"#ffffff\",\"width\":1}},\"textinfo\":\"label+percent\",\"values\":[480,480,480,480,480,480,480,480,480,480,480,480,480,480,480,480,480,480,480,480,480,480,480,480,480,480,480,479],\"type\":\"pie\"}],                        {\"template\":{\"data\":{\"histogram2dcontour\":[{\"type\":\"histogram2dcontour\",\"colorbar\":{\"outlinewidth\":0,\"ticks\":\"\"},\"colorscale\":[[0.0,\"#0d0887\"],[0.1111111111111111,\"#46039f\"],[0.2222222222222222,\"#7201a8\"],[0.3333333333333333,\"#9c179e\"],[0.4444444444444444,\"#bd3786\"],[0.5555555555555556,\"#d8576b\"],[0.6666666666666666,\"#ed7953\"],[0.7777777777777778,\"#fb9f3a\"],[0.8888888888888888,\"#fdca26\"],[1.0,\"#f0f921\"]]}],\"choropleth\":[{\"type\":\"choropleth\",\"colorbar\":{\"outlinewidth\":0,\"ticks\":\"\"}}],\"histogram2d\":[{\"type\":\"histogram2d\",\"colorbar\":{\"outlinewidth\":0,\"ticks\":\"\"},\"colorscale\":[[0.0,\"#0d0887\"],[0.1111111111111111,\"#46039f\"],[0.2222222222222222,\"#7201a8\"],[0.3333333333333333,\"#9c179e\"],[0.4444444444444444,\"#bd3786\"],[0.5555555555555556,\"#d8576b\"],[0.6666666666666666,\"#ed7953\"],[0.7777777777777778,\"#fb9f3a\"],[0.8888888888888888,\"#fdca26\"],[1.0,\"#f0f921\"]]}],\"heatmap\":[{\"type\":\"heatmap\",\"colorbar\":{\"outlinewidth\":0,\"ticks\":\"\"},\"colorscale\":[[0.0,\"#0d0887\"],[0.1111111111111111,\"#46039f\"],[0.2222222222222222,\"#7201a8\"],[0.3333333333333333,\"#9c179e\"],[0.4444444444444444,\"#bd3786\"],[0.5555555555555556,\"#d8576b\"],[0.6666666666666666,\"#ed7953\"],[0.7777777777777778,\"#fb9f3a\"],[0.8888888888888888,\"#fdca26\"],[1.0,\"#f0f921\"]]}],\"heatmapgl\":[{\"type\":\"heatmapgl\",\"colorbar\":{\"outlinewidth\":0,\"ticks\":\"\"},\"colorscale\":[[0.0,\"#0d0887\"],[0.1111111111111111,\"#46039f\"],[0.2222222222222222,\"#7201a8\"],[0.3333333333333333,\"#9c179e\"],[0.4444444444444444,\"#bd3786\"],[0.5555555555555556,\"#d8576b\"],[0.6666666666666666,\"#ed7953\"],[0.7777777777777778,\"#fb9f3a\"],[0.8888888888888888,\"#fdca26\"],[1.0,\"#f0f921\"]]}],\"contourcarpet\":[{\"type\":\"contourcarpet\",\"colorbar\":{\"outlinewidth\":0,\"ticks\":\"\"}}],\"contour\":[{\"type\":\"contour\",\"colorbar\":{\"outlinewidth\":0,\"ticks\":\"\"},\"colorscale\":[[0.0,\"#0d0887\"],[0.1111111111111111,\"#46039f\"],[0.2222222222222222,\"#7201a8\"],[0.3333333333333333,\"#9c179e\"],[0.4444444444444444,\"#bd3786\"],[0.5555555555555556,\"#d8576b\"],[0.6666666666666666,\"#ed7953\"],[0.7777777777777778,\"#fb9f3a\"],[0.8888888888888888,\"#fdca26\"],[1.0,\"#f0f921\"]]}],\"surface\":[{\"type\":\"surface\",\"colorbar\":{\"outlinewidth\":0,\"ticks\":\"\"},\"colorscale\":[[0.0,\"#0d0887\"],[0.1111111111111111,\"#46039f\"],[0.2222222222222222,\"#7201a8\"],[0.3333333333333333,\"#9c179e\"],[0.4444444444444444,\"#bd3786\"],[0.5555555555555556,\"#d8576b\"],[0.6666666666666666,\"#ed7953\"],[0.7777777777777778,\"#fb9f3a\"],[0.8888888888888888,\"#fdca26\"],[1.0,\"#f0f921\"]]}],\"mesh3d\":[{\"type\":\"mesh3d\",\"colorbar\":{\"outlinewidth\":0,\"ticks\":\"\"}}],\"scatter\":[{\"fillpattern\":{\"fillmode\":\"overlay\",\"size\":10,\"solidity\":0.2},\"type\":\"scatter\"}],\"parcoords\":[{\"type\":\"parcoords\",\"line\":{\"colorbar\":{\"outlinewidth\":0,\"ticks\":\"\"}}}],\"scatterpolargl\":[{\"type\":\"scatterpolargl\",\"marker\":{\"colorbar\":{\"outlinewidth\":0,\"ticks\":\"\"}}}],\"bar\":[{\"error_x\":{\"color\":\"#2a3f5f\"},\"error_y\":{\"color\":\"#2a3f5f\"},\"marker\":{\"line\":{\"color\":\"#E5ECF6\",\"width\":0.5},\"pattern\":{\"fillmode\":\"overlay\",\"size\":10,\"solidity\":0.2}},\"type\":\"bar\"}],\"scattergeo\":[{\"type\":\"scattergeo\",\"marker\":{\"colorbar\":{\"outlinewidth\":0,\"ticks\":\"\"}}}],\"scatterpolar\":[{\"type\":\"scatterpolar\",\"marker\":{\"colorbar\":{\"outlinewidth\":0,\"ticks\":\"\"}}}],\"histogram\":[{\"marker\":{\"pattern\":{\"fillmode\":\"overlay\",\"size\":10,\"solidity\":0.2}},\"type\":\"histogram\"}],\"scattergl\":[{\"type\":\"scattergl\",\"marker\":{\"colorbar\":{\"outlinewidth\":0,\"ticks\":\"\"}}}],\"scatter3d\":[{\"type\":\"scatter3d\",\"line\":{\"colorbar\":{\"outlinewidth\":0,\"ticks\":\"\"}},\"marker\":{\"colorbar\":{\"outlinewidth\":0,\"ticks\":\"\"}}}],\"scattermapbox\":[{\"type\":\"scattermapbox\",\"marker\":{\"colorbar\":{\"outlinewidth\":0,\"ticks\":\"\"}}}],\"scatterternary\":[{\"type\":\"scatterternary\",\"marker\":{\"colorbar\":{\"outlinewidth\":0,\"ticks\":\"\"}}}],\"scattercarpet\":[{\"type\":\"scattercarpet\",\"marker\":{\"colorbar\":{\"outlinewidth\":0,\"ticks\":\"\"}}}],\"carpet\":[{\"aaxis\":{\"endlinecolor\":\"#2a3f5f\",\"gridcolor\":\"white\",\"linecolor\":\"white\",\"minorgridcolor\":\"white\",\"startlinecolor\":\"#2a3f5f\"},\"baxis\":{\"endlinecolor\":\"#2a3f5f\",\"gridcolor\":\"white\",\"linecolor\":\"white\",\"minorgridcolor\":\"white\",\"startlinecolor\":\"#2a3f5f\"},\"type\":\"carpet\"}],\"table\":[{\"cells\":{\"fill\":{\"color\":\"#EBF0F8\"},\"line\":{\"color\":\"white\"}},\"header\":{\"fill\":{\"color\":\"#C8D4E3\"},\"line\":{\"color\":\"white\"}},\"type\":\"table\"}],\"barpolar\":[{\"marker\":{\"line\":{\"color\":\"#E5ECF6\",\"width\":0.5},\"pattern\":{\"fillmode\":\"overlay\",\"size\":10,\"solidity\":0.2}},\"type\":\"barpolar\"}],\"pie\":[{\"automargin\":true,\"type\":\"pie\"}]},\"layout\":{\"autotypenumbers\":\"strict\",\"colorway\":[\"#636efa\",\"#EF553B\",\"#00cc96\",\"#ab63fa\",\"#FFA15A\",\"#19d3f3\",\"#FF6692\",\"#B6E880\",\"#FF97FF\",\"#FECB52\"],\"font\":{\"color\":\"#2a3f5f\"},\"hovermode\":\"closest\",\"hoverlabel\":{\"align\":\"left\"},\"paper_bgcolor\":\"white\",\"plot_bgcolor\":\"#E5ECF6\",\"polar\":{\"bgcolor\":\"#E5ECF6\",\"angularaxis\":{\"gridcolor\":\"white\",\"linecolor\":\"white\",\"ticks\":\"\"},\"radialaxis\":{\"gridcolor\":\"white\",\"linecolor\":\"white\",\"ticks\":\"\"}},\"ternary\":{\"bgcolor\":\"#E5ECF6\",\"aaxis\":{\"gridcolor\":\"white\",\"linecolor\":\"white\",\"ticks\":\"\"},\"baxis\":{\"gridcolor\":\"white\",\"linecolor\":\"white\",\"ticks\":\"\"},\"caxis\":{\"gridcolor\":\"white\",\"linecolor\":\"white\",\"ticks\":\"\"}},\"coloraxis\":{\"colorbar\":{\"outlinewidth\":0,\"ticks\":\"\"}},\"colorscale\":{\"sequential\":[[0.0,\"#0d0887\"],[0.1111111111111111,\"#46039f\"],[0.2222222222222222,\"#7201a8\"],[0.3333333333333333,\"#9c179e\"],[0.4444444444444444,\"#bd3786\"],[0.5555555555555556,\"#d8576b\"],[0.6666666666666666,\"#ed7953\"],[0.7777777777777778,\"#fb9f3a\"],[0.8888888888888888,\"#fdca26\"],[1.0,\"#f0f921\"]],\"sequentialminus\":[[0.0,\"#0d0887\"],[0.1111111111111111,\"#46039f\"],[0.2222222222222222,\"#7201a8\"],[0.3333333333333333,\"#9c179e\"],[0.4444444444444444,\"#bd3786\"],[0.5555555555555556,\"#d8576b\"],[0.6666666666666666,\"#ed7953\"],[0.7777777777777778,\"#fb9f3a\"],[0.8888888888888888,\"#fdca26\"],[1.0,\"#f0f921\"]],\"diverging\":[[0,\"#8e0152\"],[0.1,\"#c51b7d\"],[0.2,\"#de77ae\"],[0.3,\"#f1b6da\"],[0.4,\"#fde0ef\"],[0.5,\"#f7f7f7\"],[0.6,\"#e6f5d0\"],[0.7,\"#b8e186\"],[0.8,\"#7fbc41\"],[0.9,\"#4d9221\"],[1,\"#276419\"]]},\"xaxis\":{\"gridcolor\":\"white\",\"linecolor\":\"white\",\"ticks\":\"\",\"title\":{\"standoff\":15},\"zerolinecolor\":\"white\",\"automargin\":true,\"zerolinewidth\":2},\"yaxis\":{\"gridcolor\":\"white\",\"linecolor\":\"white\",\"ticks\":\"\",\"title\":{\"standoff\":15},\"zerolinecolor\":\"white\",\"automargin\":true,\"zerolinewidth\":2},\"scene\":{\"xaxis\":{\"backgroundcolor\":\"#E5ECF6\",\"gridcolor\":\"white\",\"linecolor\":\"white\",\"showbackground\":true,\"ticks\":\"\",\"zerolinecolor\":\"white\",\"gridwidth\":2},\"yaxis\":{\"backgroundcolor\":\"#E5ECF6\",\"gridcolor\":\"white\",\"linecolor\":\"white\",\"showbackground\":true,\"ticks\":\"\",\"zerolinecolor\":\"white\",\"gridwidth\":2},\"zaxis\":{\"backgroundcolor\":\"#E5ECF6\",\"gridcolor\":\"white\",\"linecolor\":\"white\",\"showbackground\":true,\"ticks\":\"\",\"zerolinecolor\":\"white\",\"gridwidth\":2}},\"shapedefaults\":{\"line\":{\"color\":\"#2a3f5f\"}},\"annotationdefaults\":{\"arrowcolor\":\"#2a3f5f\",\"arrowhead\":0,\"arrowwidth\":1},\"geo\":{\"bgcolor\":\"white\",\"landcolor\":\"#E5ECF6\",\"subunitcolor\":\"white\",\"showland\":true,\"showlakes\":true,\"lakecolor\":\"white\"},\"title\":{\"x\":0.05},\"mapbox\":{\"style\":\"light\"}}},\"font\":{\"color\":\"white\"},\"title\":{\"text\":\"Train Labels Value Counts\"},\"paper_bgcolor\":\"black\",\"plot_bgcolor\":\"black\"},                        {\"responsive\": true}                    ).then(function(){\n",
       "                            \n",
       "var gd = document.getElementById('e37b3059-997f-4f1c-91d7-e59e19c7737f');\n",
       "var x = new MutationObserver(function (mutations, observer) {{\n",
       "        var display = window.getComputedStyle(gd).display;\n",
       "        if (!display || display === 'none') {{\n",
       "            console.log([gd, 'removed!']);\n",
       "            Plotly.purge(gd);\n",
       "            observer.disconnect();\n",
       "        }}\n",
       "}});\n",
       "\n",
       "// Listen for the removal of the full notebook cells\n",
       "var notebookContainer = gd.closest('#notebook-container');\n",
       "if (notebookContainer) {{\n",
       "    x.observe(notebookContainer, {childList: true});\n",
       "}}\n",
       "\n",
       "// Listen for the clearing of the current output cell\n",
       "var outputEl = gd.closest('.output');\n",
       "if (outputEl) {{\n",
       "    x.observe(outputEl, {childList: true});\n",
       "}}\n",
       "\n",
       "                        })                };                });            </script>        </div>"
      ]
     },
     "metadata": {},
     "output_type": "display_data"
    }
   ],
   "source": [
    "value_counts_data = Train_Labels.value_counts()\n",
    "\n",
    "# Create the pie chart\n",
    "fig = go.Figure(data=[go.Pie(\n",
    "    labels=value_counts_data.index,\n",
    "    values=value_counts_data.values,\n",
    "    textinfo='label+percent',\n",
    "    insidetextorientation='radial',\n",
    "    hole=0.6,\n",
    "    marker=dict(colors=['#1f77b4', '#ff7f0e', '#2ca02c', '#d62728'], line=dict(color='#ffffff', width=1)),\n",
    ")])\n",
    "\n",
    "# Update the layout\n",
    "fig.update_layout(\n",
    "    title='Train Labels Value Counts',\n",
    "    font=dict(color='white'),\n",
    "    paper_bgcolor='black',\n",
    "    plot_bgcolor='black',\n",
    ")\n",
    "\n",
    "# Show the plot\n",
    "fig.show()\n"
   ]
  },
  {
   "cell_type": "code",
   "execution_count": 17,
   "id": "da15305a",
   "metadata": {
    "execution": {
     "iopub.execute_input": "2023-06-12T14:41:40.031794Z",
     "iopub.status.busy": "2023-06-12T14:41:40.031499Z",
     "iopub.status.idle": "2023-06-12T14:41:40.037202Z",
     "shell.execute_reply": "2023-06-12T14:41:40.036232Z"
    },
    "papermill": {
     "duration": 0.021255,
     "end_time": "2023-06-12T14:41:40.040574",
     "exception": false,
     "start_time": "2023-06-12T14:41:40.019319",
     "status": "completed"
    },
    "tags": []
   },
   "outputs": [
    {
     "name": "stdout",
     "output_type": "stream",
     "text": [
      "28\n"
     ]
    }
   ],
   "source": [
    "arabic_chars = ['alef','beh','teh','theh','jeem','hah','khah','dal','thal','reh','zain','seen','sheen','sad','dad','tah','zah','ain','ghain','feh','qaf','kaf','lam','meem','noon','heh','waw','yeh']\n",
    "print(len(arabic_chars))"
   ]
  },
  {
   "cell_type": "code",
   "execution_count": 18,
   "id": "a858695c",
   "metadata": {
    "execution": {
     "iopub.execute_input": "2023-06-12T14:41:40.064122Z",
     "iopub.status.busy": "2023-06-12T14:41:40.063860Z",
     "iopub.status.idle": "2023-06-12T14:41:40.069842Z",
     "shell.execute_reply": "2023-06-12T14:41:40.068868Z"
    },
    "papermill": {
     "duration": 0.021443,
     "end_time": "2023-06-12T14:41:40.073286",
     "exception": false,
     "start_time": "2023-06-12T14:41:40.051843",
     "status": "completed"
    },
    "tags": []
   },
   "outputs": [
    {
     "name": "stdout",
     "output_type": "stream",
     "text": [
      "X_Train Shape : (13439, 1024)\n",
      "X_Test  Shape : (3359, 1024)\n",
      "Y_Train Shape : (13439, 1)\n",
      "Y_Test  Shape : (3359, 1)\n"
     ]
    }
   ],
   "source": [
    "x_train = Train_Images.to_numpy()\n",
    "y_train = Train_Labels.to_numpy()-1 \n",
    "\n",
    "x_test = Test_Images.to_numpy()\n",
    "y_test = Test_Labels.to_numpy()-1\n",
    "print(f\"X_Train Shape : {x_train.shape}\")\n",
    "print(f\"X_Test  Shape : {x_test.shape}\")\n",
    "print(f\"Y_Train Shape : {y_train.shape}\")\n",
    "print(f\"Y_Test  Shape : {y_test.shape}\")"
   ]
  },
  {
   "cell_type": "code",
   "execution_count": 19,
   "id": "522d2834",
   "metadata": {
    "execution": {
     "iopub.execute_input": "2023-06-12T14:41:40.096931Z",
     "iopub.status.busy": "2023-06-12T14:41:40.096668Z",
     "iopub.status.idle": "2023-06-12T14:41:40.156018Z",
     "shell.execute_reply": "2023-06-12T14:41:40.155033Z"
    },
    "papermill": {
     "duration": 0.073941,
     "end_time": "2023-06-12T14:41:40.158557",
     "exception": false,
     "start_time": "2023-06-12T14:41:40.084616",
     "status": "completed"
    },
    "tags": []
   },
   "outputs": [],
   "source": [
    "x_train = x_train.reshape(-1,32,32,1)\n",
    "x_test  = x_test.reshape(-1,32,32,1)\n",
    "\n",
    "x_train = x_train / 255.0\n",
    "x_test  = x_test / 255.0"
   ]
  },
  {
   "cell_type": "code",
   "execution_count": 20,
   "id": "fd8907c1",
   "metadata": {
    "execution": {
     "iopub.execute_input": "2023-06-12T14:41:40.183256Z",
     "iopub.status.busy": "2023-06-12T14:41:40.182953Z",
     "iopub.status.idle": "2023-06-12T14:41:40.679217Z",
     "shell.execute_reply": "2023-06-12T14:41:40.678274Z"
    },
    "papermill": {
     "duration": 0.510763,
     "end_time": "2023-06-12T14:41:40.681332",
     "exception": false,
     "start_time": "2023-06-12T14:41:40.170569",
     "status": "completed"
    },
    "tags": []
   },
   "outputs": [
    {
     "data": {
      "image/png": "[encoded data removed]",
      "text/plain": [
       "<Figure size 1000x1000 with 10 Axes>"
      ]
     },
     "metadata": {},
     "output_type": "display_data"
    }
   ],
   "source": [
    "ra = np.random.randint(0, 13440, size=25)\n",
    "plt.figure(figsize=(10, 10))\n",
    "for i in range(10):\n",
    "    plt.subplot(5, 5, i + 1)\n",
    "    plt.xticks([])\n",
    "    plt.yticks([])\n",
    "    plt.imshow(x_train[ra[i]].reshape(32, 32).T, \"gray\")\n",
    "    plt.xlabel(arabic_chars[int(y_train[ra[i]][0])], fontsize=10, color='black', ha='center')\n",
    "    plt.subplots_adjust(hspace=0.5)\n",
    "plt.show()"
   ]
  },
  {
   "cell_type": "code",
   "execution_count": 21,
   "id": "a003c3d8",
   "metadata": {
    "execution": {
     "iopub.execute_input": "2023-06-12T14:41:40.707151Z",
     "iopub.status.busy": "2023-06-12T14:41:40.706257Z",
     "iopub.status.idle": "2023-06-12T14:41:40.713513Z",
     "shell.execute_reply": "2023-06-12T14:41:40.712017Z"
    },
    "papermill": {
     "duration": 0.022604,
     "end_time": "2023-06-12T14:41:40.715941",
     "exception": false,
     "start_time": "2023-06-12T14:41:40.693337",
     "status": "completed"
    },
    "tags": []
   },
   "outputs": [
    {
     "name": "stdout",
     "output_type": "stream",
     "text": [
      "(13439, 28) (3359, 28)\n"
     ]
    }
   ],
   "source": [
    "# Converting the class vector in integers to binary class matrix\n",
    "y_train = to_categorical(y_train)\n",
    "y_test  = to_categorical(y_test)\n",
    "print(y_train.shape, y_test.shape)"
   ]
  },
  {
   "cell_type": "code",
   "execution_count": 22,
   "id": "ceae5a7d",
   "metadata": {
    "execution": {
     "iopub.execute_input": "2023-06-12T14:41:40.765511Z",
     "iopub.status.busy": "2023-06-12T14:41:40.765168Z",
     "iopub.status.idle": "2023-06-12T14:41:43.678377Z",
     "shell.execute_reply": "2023-06-12T14:41:43.677619Z"
    },
    "papermill": {
     "duration": 2.953811,
     "end_time": "2023-06-12T14:41:43.706003",
     "exception": false,
     "start_time": "2023-06-12T14:41:40.752192",
     "status": "completed"
    },
    "tags": []
   },
   "outputs": [
    {
     "name": "stdout",
     "output_type": "stream",
     "text": [
      "Model: \"sequential\"\n",
      "_________________________________________________________________\n",
      " Layer (type)                Output Shape              Param #   \n",
      "=================================================================\n",
      " conv2d (Conv2D)             (None, 32, 32, 32)        832       \n",
      "                                                                 \n",
      " conv2d_1 (Conv2D)           (None, 28, 28, 32)        25632     \n",
      "                                                                 \n",
      " conv2d_2 (Conv2D)           (None, 24, 24, 32)        25632     \n",
      "                                                                 \n",
      " max_pooling2d (MaxPooling2D  (None, 12, 12, 32)       0         \n",
      " )                                                               \n",
      "                                                                 \n",
      " batch_normalization (BatchN  (None, 12, 12, 32)       128       \n",
      " ormalization)                                                   \n",
      "                                                                 \n",
      " conv2d_3 (Conv2D)           (None, 12, 12, 64)        51264     \n",
      "                                                                 \n",
      " conv2d_4 (Conv2D)           (None, 8, 8, 64)          102464    \n",
      "                                                                 \n",
      " conv2d_5 (Conv2D)           (None, 4, 4, 64)          102464    \n",
      "                                                                 \n",
      " max_pooling2d_1 (MaxPooling  (None, 2, 2, 64)         0         \n",
      " 2D)                                                             \n",
      "                                                                 \n",
      " batch_normalization_1 (Batc  (None, 2, 2, 64)         256       \n",
      " hNormalization)                                                 \n",
      "                                                                 \n",
      " flatten (Flatten)           (None, 256)               0         \n",
      "                                                                 \n",
      " dense (Dense)               (None, 128)               32896     \n",
      "                                                                 \n",
      " dense_1 (Dense)             (None, 128)               16512     \n",
      "                                                                 \n",
      " dropout (Dropout)           (None, 128)               0         \n",
      "                                                                 \n",
      " dense_2 (Dense)             (None, 28)                3612      \n",
      "                                                                 \n",
      "=================================================================\n",
      "Total params: 361,692\n",
      "Trainable params: 361,500\n",
      "Non-trainable params: 192\n",
      "_________________________________________________________________\n"
     ]
    }
   ],
   "source": [
    "model = Sequential()\n",
    "\n",
    "model.add(Conv2D(32, (5, 5), padding=\"same\", activation=\"relu\", input_shape=(32, 32, 1)))\n",
    "model.add(Conv2D(32, (5, 5), activation=\"relu\"))\n",
    "model.add(Conv2D(32, (5, 5), activation=\"relu\"))\n",
    "model.add(MaxPooling2D((2, 2)))\n",
    "model.add(BatchNormalization())\n",
    "\n",
    "model.add(Conv2D(64, (5, 5), padding=\"same\", activation=\"relu\"))\n",
    "model.add(Conv2D(64, (5, 5), activation=\"relu\"))\n",
    "model.add(Conv2D(64, (5, 5), activation=\"relu\"))\n",
    "model.add(MaxPooling2D((2, 2)))\n",
    "model.add(BatchNormalization())\n",
    "\n",
    "model.add(Flatten())\n",
    "model.add(Dense(128, activation=\"relu\"))\n",
    "model.add(Dense(128, activation=\"relu\"))\n",
    "model.add(Dropout(0.4))\n",
    "\n",
    "model.add(Dense(28, activation=\"softmax\"))\n",
    "\n",
    "model.compile(loss=\"categorical_crossentropy\", optimizer=\"adam\", metrics=[\"accuracy\"])\n",
    "model.summary()"
   ]
  },
  {
   "cell_type": "code",
   "execution_count": 23,
   "id": "fe8f8ad4",
   "metadata": {
    "execution": {
     "iopub.execute_input": "2023-06-12T14:41:43.737158Z",
     "iopub.status.busy": "2023-06-12T14:41:43.736859Z",
     "iopub.status.idle": "2023-06-12T14:41:43.799723Z",
     "shell.execute_reply": "2023-06-12T14:41:43.798630Z"
    },
    "papermill": {
     "duration": 0.081147,
     "end_time": "2023-06-12T14:41:43.802122",
     "exception": false,
     "start_time": "2023-06-12T14:41:43.720975",
     "status": "completed"
    },
    "tags": []
   },
   "outputs": [
    {
     "data": {
      "text/html": [
       "<div>                            <div id=\"8346df0b-27af-4229-adc7-49723a189627\" class=\"plotly-graph-div\" style=\"height:400px; width:800px;\"></div>            <script type=\"text/javascript\">                require([\"plotly\"], function(Plotly) {                    window.PLOTLYENV=window.PLOTLYENV || {};                                    if (document.getElementById(\"8346df0b-27af-4229-adc7-49723a189627\")) {                    Plotly.newPlot(                        \"8346df0b-27af-4229-adc7-49723a189627\",                        [{\"cells\":{\"fill\":{\"color\":\"rgb(35, 35, 35)\"},\"font\":{\"color\":\"white\"},\"values\":[[\"_________________________________________________________________\",\" Layer (type)                Output Shape              Param #   \",\"=================================================================\",\" conv2d (Conv2D)             (None, 32, 32, 32)        832       \",\"                                                                 \",\" conv2d_1 (Conv2D)           (None, 28, 28, 32)        25632     \",\"                                                                 \",\" conv2d_2 (Conv2D)           (None, 24, 24, 32)        25632     \",\"                                                                 \",\" max_pooling2d (MaxPooling2D  (None, 12, 12, 32)       0         \",\" )                                                               \",\"                                                                 \",\" batch_normalization (BatchN  (None, 12, 12, 32)       128       \",\" ormalization)                                                   \",\"                                                                 \",\" conv2d_3 (Conv2D)           (None, 12, 12, 64)        51264     \",\"                                                                 \",\" conv2d_4 (Conv2D)           (None, 8, 8, 64)          102464    \",\"                                                                 \",\" conv2d_5 (Conv2D)           (None, 4, 4, 64)          102464    \",\"                                                                 \",\" max_pooling2d_1 (MaxPooling  (None, 2, 2, 64)         0         \",\" 2D)                                                             \",\"                                                                 \",\" batch_normalization_1 (Batc  (None, 2, 2, 64)         256       \",\" hNormalization)                                                 \",\"                                                                 \",\" flatten (Flatten)           (None, 256)               0         \",\"                                                                 \",\" dense (Dense)               (None, 128)               32896     \",\"                                                                 \",\" dense_1 (Dense)             (None, 128)               16512     \",\"                                                                 \",\" dropout (Dropout)           (None, 128)               0         \",\"                                                                 \",\" dense_2 (Dense)             (None, 28)                3612      \",\"                                                                 \",\"=================================================================\",\"Total params: 361,692\",\"Trainable params: 361,500\",\"Non-trainable params: 192\",\"_________________________________________________________________\"],[\" Layer (type)                Output Shape              Param #   \",\"=================================================================\",\" conv2d (Conv2D)             (None, 32, 32, 32)        832       \",\"                                                                 \",\" conv2d_1 (Conv2D)           (None, 28, 28, 32)        25632     \",\"                                                                 \",\" conv2d_2 (Conv2D)           (None, 24, 24, 32)        25632     \",\"                                                                 \",\" max_pooling2d (MaxPooling2D  (None, 12, 12, 32)       0         \",\" )                                                               \",\"                                                                 \",\" batch_normalization (BatchN  (None, 12, 12, 32)       128       \",\" ormalization)                                                   \",\"                                                                 \",\" conv2d_3 (Conv2D)           (None, 12, 12, 64)        51264     \",\"                                                                 \",\" conv2d_4 (Conv2D)           (None, 8, 8, 64)          102464    \",\"                                                                 \",\" conv2d_5 (Conv2D)           (None, 4, 4, 64)          102464    \",\"                                                                 \",\" max_pooling2d_1 (MaxPooling  (None, 2, 2, 64)         0         \",\" 2D)                                                             \",\"                                                                 \",\" batch_normalization_1 (Batc  (None, 2, 2, 64)         256       \",\" hNormalization)                                                 \",\"                                                                 \",\" flatten (Flatten)           (None, 256)               0         \",\"                                                                 \",\" dense (Dense)               (None, 128)               32896     \",\"                                                                 \",\" dense_1 (Dense)             (None, 128)               16512     \",\"                                                                 \",\" dropout (Dropout)           (None, 128)               0         \",\"                                                                 \",\" dense_2 (Dense)             (None, 28)                3612      \",\"                                                                 \",\"=================================================================\",\"Total params: 361,692\",\"Trainable params: 361,500\",\"Non-trainable params: 192\",\"_________________________________________________________________\"],[\"=================================================================\",\" conv2d (Conv2D)             (None, 32, 32, 32)        832       \",\"                                                                 \",\" conv2d_1 (Conv2D)           (None, 28, 28, 32)        25632     \",\"                                                                 \",\" conv2d_2 (Conv2D)           (None, 24, 24, 32)        25632     \",\"                                                                 \",\" max_pooling2d (MaxPooling2D  (None, 12, 12, 32)       0         \",\" )                                                               \",\"                                                                 \",\" batch_normalization (BatchN  (None, 12, 12, 32)       128       \",\" ormalization)                                                   \",\"                                                                 \",\" conv2d_3 (Conv2D)           (None, 12, 12, 64)        51264     \",\"                                                                 \",\" conv2d_4 (Conv2D)           (None, 8, 8, 64)          102464    \",\"                                                                 \",\" conv2d_5 (Conv2D)           (None, 4, 4, 64)          102464    \",\"                                                                 \",\" max_pooling2d_1 (MaxPooling  (None, 2, 2, 64)         0         \",\" 2D)                                                             \",\"                                                                 \",\" batch_normalization_1 (Batc  (None, 2, 2, 64)         256       \",\" hNormalization)                                                 \",\"                                                                 \",\" flatten (Flatten)           (None, 256)               0         \",\"                                                                 \",\" dense (Dense)               (None, 128)               32896     \",\"                                                                 \",\" dense_1 (Dense)             (None, 128)               16512     \",\"                                                                 \",\" dropout (Dropout)           (None, 128)               0         \",\"                                                                 \",\" dense_2 (Dense)             (None, 28)                3612      \",\"                                                                 \",\"=================================================================\",\"Total params: 361,692\",\"Trainable params: 361,500\",\"Non-trainable params: 192\",\"_________________________________________________________________\"]]},\"header\":{\"fill\":{\"color\":\"rgb(55, 55, 55)\"},\"font\":{\"color\":\"white\"},\"values\":[\"Layer (type)\",\"Output Shape\",\"Param #\"]},\"type\":\"table\"}],                        {\"font\":{\"color\":\"white\"},\"height\":400,\"paper_bgcolor\":\"rgb(0, 0, 0)\",\"plot_bgcolor\":\"rgb(0, 0, 0)\",\"title\":{\"text\":\"Model Summary\"},\"width\":800,\"template\":{\"data\":{\"histogram2dcontour\":[{\"type\":\"histogram2dcontour\",\"colorbar\":{\"outlinewidth\":0,\"ticks\":\"\"},\"colorscale\":[[0.0,\"#0d0887\"],[0.1111111111111111,\"#46039f\"],[0.2222222222222222,\"#7201a8\"],[0.3333333333333333,\"#9c179e\"],[0.4444444444444444,\"#bd3786\"],[0.5555555555555556,\"#d8576b\"],[0.6666666666666666,\"#ed7953\"],[0.7777777777777778,\"#fb9f3a\"],[0.8888888888888888,\"#fdca26\"],[1.0,\"#f0f921\"]]}],\"choropleth\":[{\"type\":\"choropleth\",\"colorbar\":{\"outlinewidth\":0,\"ticks\":\"\"}}],\"histogram2d\":[{\"type\":\"histogram2d\",\"colorbar\":{\"outlinewidth\":0,\"ticks\":\"\"},\"colorscale\":[[0.0,\"#0d0887\"],[0.1111111111111111,\"#46039f\"],[0.2222222222222222,\"#7201a8\"],[0.3333333333333333,\"#9c179e\"],[0.4444444444444444,\"#bd3786\"],[0.5555555555555556,\"#d8576b\"],[0.6666666666666666,\"#ed7953\"],[0.7777777777777778,\"#fb9f3a\"],[0.8888888888888888,\"#fdca26\"],[1.0,\"#f0f921\"]]}],\"heatmap\":[{\"type\":\"heatmap\",\"colorbar\":{\"outlinewidth\":0,\"ticks\":\"\"},\"colorscale\":[[0.0,\"#0d0887\"],[0.1111111111111111,\"#46039f\"],[0.2222222222222222,\"#7201a8\"],[0.3333333333333333,\"#9c179e\"],[0.4444444444444444,\"#bd3786\"],[0.5555555555555556,\"#d8576b\"],[0.6666666666666666,\"#ed7953\"],[0.7777777777777778,\"#fb9f3a\"],[0.8888888888888888,\"#fdca26\"],[1.0,\"#f0f921\"]]}],\"heatmapgl\":[{\"type\":\"heatmapgl\",\"colorbar\":{\"outlinewidth\":0,\"ticks\":\"\"},\"colorscale\":[[0.0,\"#0d0887\"],[0.1111111111111111,\"#46039f\"],[0.2222222222222222,\"#7201a8\"],[0.3333333333333333,\"#9c179e\"],[0.4444444444444444,\"#bd3786\"],[0.5555555555555556,\"#d8576b\"],[0.6666666666666666,\"#ed7953\"],[0.7777777777777778,\"#fb9f3a\"],[0.8888888888888888,\"#fdca26\"],[1.0,\"#f0f921\"]]}],\"contourcarpet\":[{\"type\":\"contourcarpet\",\"colorbar\":{\"outlinewidth\":0,\"ticks\":\"\"}}],\"contour\":[{\"type\":\"contour\",\"colorbar\":{\"outlinewidth\":0,\"ticks\":\"\"},\"colorscale\":[[0.0,\"#0d0887\"],[0.1111111111111111,\"#46039f\"],[0.2222222222222222,\"#7201a8\"],[0.3333333333333333,\"#9c179e\"],[0.4444444444444444,\"#bd3786\"],[0.5555555555555556,\"#d8576b\"],[0.6666666666666666,\"#ed7953\"],[0.7777777777777778,\"#fb9f3a\"],[0.8888888888888888,\"#fdca26\"],[1.0,\"#f0f921\"]]}],\"surface\":[{\"type\":\"surface\",\"colorbar\":{\"outlinewidth\":0,\"ticks\":\"\"},\"colorscale\":[[0.0,\"#0d0887\"],[0.1111111111111111,\"#46039f\"],[0.2222222222222222,\"#7201a8\"],[0.3333333333333333,\"#9c179e\"],[0.4444444444444444,\"#bd3786\"],[0.5555555555555556,\"#d8576b\"],[0.6666666666666666,\"#ed7953\"],[0.7777777777777778,\"#fb9f3a\"],[0.8888888888888888,\"#fdca26\"],[1.0,\"#f0f921\"]]}],\"mesh3d\":[{\"type\":\"mesh3d\",\"colorbar\":{\"outlinewidth\":0,\"ticks\":\"\"}}],\"scatter\":[{\"fillpattern\":{\"fillmode\":\"overlay\",\"size\":10,\"solidity\":0.2},\"type\":\"scatter\"}],\"parcoords\":[{\"type\":\"parcoords\",\"line\":{\"colorbar\":{\"outlinewidth\":0,\"ticks\":\"\"}}}],\"scatterpolargl\":[{\"type\":\"scatterpolargl\",\"marker\":{\"colorbar\":{\"outlinewidth\":0,\"ticks\":\"\"}}}],\"bar\":[{\"error_x\":{\"color\":\"#2a3f5f\"},\"error_y\":{\"color\":\"#2a3f5f\"},\"marker\":{\"line\":{\"color\":\"#E5ECF6\",\"width\":0.5},\"pattern\":{\"fillmode\":\"overlay\",\"size\":10,\"solidity\":0.2}},\"type\":\"bar\"}],\"scattergeo\":[{\"type\":\"scattergeo\",\"marker\":{\"colorbar\":{\"outlinewidth\":0,\"ticks\":\"\"}}}],\"scatterpolar\":[{\"type\":\"scatterpolar\",\"marker\":{\"colorbar\":{\"outlinewidth\":0,\"ticks\":\"\"}}}],\"histogram\":[{\"marker\":{\"pattern\":{\"fillmode\":\"overlay\",\"size\":10,\"solidity\":0.2}},\"type\":\"histogram\"}],\"scattergl\":[{\"type\":\"scattergl\",\"marker\":{\"colorbar\":{\"outlinewidth\":0,\"ticks\":\"\"}}}],\"scatter3d\":[{\"type\":\"scatter3d\",\"line\":{\"colorbar\":{\"outlinewidth\":0,\"ticks\":\"\"}},\"marker\":{\"colorbar\":{\"outlinewidth\":0,\"ticks\":\"\"}}}],\"scattermapbox\":[{\"type\":\"scattermapbox\",\"marker\":{\"colorbar\":{\"outlinewidth\":0,\"ticks\":\"\"}}}],\"scatterternary\":[{\"type\":\"scatterternary\",\"marker\":{\"colorbar\":{\"outlinewidth\":0,\"ticks\":\"\"}}}],\"scattercarpet\":[{\"type\":\"scattercarpet\",\"marker\":{\"colorbar\":{\"outlinewidth\":0,\"ticks\":\"\"}}}],\"carpet\":[{\"aaxis\":{\"endlinecolor\":\"#2a3f5f\",\"gridcolor\":\"white\",\"linecolor\":\"white\",\"minorgridcolor\":\"white\",\"startlinecolor\":\"#2a3f5f\"},\"baxis\":{\"endlinecolor\":\"#2a3f5f\",\"gridcolor\":\"white\",\"linecolor\":\"white\",\"minorgridcolor\":\"white\",\"startlinecolor\":\"#2a3f5f\"},\"type\":\"carpet\"}],\"table\":[{\"cells\":{\"fill\":{\"color\":\"#EBF0F8\"},\"line\":{\"color\":\"white\"}},\"header\":{\"fill\":{\"color\":\"#C8D4E3\"},\"line\":{\"color\":\"white\"}},\"type\":\"table\"}],\"barpolar\":[{\"marker\":{\"line\":{\"color\":\"#E5ECF6\",\"width\":0.5},\"pattern\":{\"fillmode\":\"overlay\",\"size\":10,\"solidity\":0.2}},\"type\":\"barpolar\"}],\"pie\":[{\"automargin\":true,\"type\":\"pie\"}]},\"layout\":{\"autotypenumbers\":\"strict\",\"colorway\":[\"#636efa\",\"#EF553B\",\"#00cc96\",\"#ab63fa\",\"#FFA15A\",\"#19d3f3\",\"#FF6692\",\"#B6E880\",\"#FF97FF\",\"#FECB52\"],\"font\":{\"color\":\"#2a3f5f\"},\"hovermode\":\"closest\",\"hoverlabel\":{\"align\":\"left\"},\"paper_bgcolor\":\"white\",\"plot_bgcolor\":\"#E5ECF6\",\"polar\":{\"bgcolor\":\"#E5ECF6\",\"angularaxis\":{\"gridcolor\":\"white\",\"linecolor\":\"white\",\"ticks\":\"\"},\"radialaxis\":{\"gridcolor\":\"white\",\"linecolor\":\"white\",\"ticks\":\"\"}},\"ternary\":{\"bgcolor\":\"#E5ECF6\",\"aaxis\":{\"gridcolor\":\"white\",\"linecolor\":\"white\",\"ticks\":\"\"},\"baxis\":{\"gridcolor\":\"white\",\"linecolor\":\"white\",\"ticks\":\"\"},\"caxis\":{\"gridcolor\":\"white\",\"linecolor\":\"white\",\"ticks\":\"\"}},\"coloraxis\":{\"colorbar\":{\"outlinewidth\":0,\"ticks\":\"\"}},\"colorscale\":{\"sequential\":[[0.0,\"#0d0887\"],[0.1111111111111111,\"#46039f\"],[0.2222222222222222,\"#7201a8\"],[0.3333333333333333,\"#9c179e\"],[0.4444444444444444,\"#bd3786\"],[0.5555555555555556,\"#d8576b\"],[0.6666666666666666,\"#ed7953\"],[0.7777777777777778,\"#fb9f3a\"],[0.8888888888888888,\"#fdca26\"],[1.0,\"#f0f921\"]],\"sequentialminus\":[[0.0,\"#0d0887\"],[0.1111111111111111,\"#46039f\"],[0.2222222222222222,\"#7201a8\"],[0.3333333333333333,\"#9c179e\"],[0.4444444444444444,\"#bd3786\"],[0.5555555555555556,\"#d8576b\"],[0.6666666666666666,\"#ed7953\"],[0.7777777777777778,\"#fb9f3a\"],[0.8888888888888888,\"#fdca26\"],[1.0,\"#f0f921\"]],\"diverging\":[[0,\"#8e0152\"],[0.1,\"#c51b7d\"],[0.2,\"#de77ae\"],[0.3,\"#f1b6da\"],[0.4,\"#fde0ef\"],[0.5,\"#f7f7f7\"],[0.6,\"#e6f5d0\"],[0.7,\"#b8e186\"],[0.8,\"#7fbc41\"],[0.9,\"#4d9221\"],[1,\"#276419\"]]},\"xaxis\":{\"gridcolor\":\"white\",\"linecolor\":\"white\",\"ticks\":\"\",\"title\":{\"standoff\":15},\"zerolinecolor\":\"white\",\"automargin\":true,\"zerolinewidth\":2},\"yaxis\":{\"gridcolor\":\"white\",\"linecolor\":\"white\",\"ticks\":\"\",\"title\":{\"standoff\":15},\"zerolinecolor\":\"white\",\"automargin\":true,\"zerolinewidth\":2},\"scene\":{\"xaxis\":{\"backgroundcolor\":\"#E5ECF6\",\"gridcolor\":\"white\",\"linecolor\":\"white\",\"showbackground\":true,\"ticks\":\"\",\"zerolinecolor\":\"white\",\"gridwidth\":2},\"yaxis\":{\"backgroundcolor\":\"#E5ECF6\",\"gridcolor\":\"white\",\"linecolor\":\"white\",\"showbackground\":true,\"ticks\":\"\",\"zerolinecolor\":\"white\",\"gridwidth\":2},\"zaxis\":{\"backgroundcolor\":\"#E5ECF6\",\"gridcolor\":\"white\",\"linecolor\":\"white\",\"showbackground\":true,\"ticks\":\"\",\"zerolinecolor\":\"white\",\"gridwidth\":2}},\"shapedefaults\":{\"line\":{\"color\":\"#2a3f5f\"}},\"annotationdefaults\":{\"arrowcolor\":\"#2a3f5f\",\"arrowhead\":0,\"arrowwidth\":1},\"geo\":{\"bgcolor\":\"white\",\"landcolor\":\"#E5ECF6\",\"subunitcolor\":\"white\",\"showland\":true,\"showlakes\":true,\"lakecolor\":\"white\"},\"title\":{\"x\":0.05},\"mapbox\":{\"style\":\"light\"}}}},                        {\"responsive\": true}                    ).then(function(){\n",
       "                            \n",
       "var gd = document.getElementById('8346df0b-27af-4229-adc7-49723a189627');\n",
       "var x = new MutationObserver(function (mutations, observer) {{\n",
       "        var display = window.getComputedStyle(gd).display;\n",
       "        if (!display || display === 'none') {{\n",
       "            console.log([gd, 'removed!']);\n",
       "            Plotly.purge(gd);\n",
       "            observer.disconnect();\n",
       "        }}\n",
       "}});\n",
       "\n",
       "// Listen for the removal of the full notebook cells\n",
       "var notebookContainer = gd.closest('#notebook-container');\n",
       "if (notebookContainer) {{\n",
       "    x.observe(notebookContainer, {childList: true});\n",
       "}}\n",
       "\n",
       "// Listen for the clearing of the current output cell\n",
       "var outputEl = gd.closest('.output');\n",
       "if (outputEl) {{\n",
       "    x.observe(outputEl, {childList: true});\n",
       "}}\n",
       "\n",
       "                        })                };                });            </script>        </div>"
      ]
     },
     "metadata": {},
     "output_type": "display_data"
    }
   ],
   "source": [
    "# Generate the model summary\n",
    "model_summary = []\n",
    "model.summary(print_fn=lambda x: model_summary.append(x))\n",
    "\n",
    "# Create a Plotly table to display the model summary\n",
    "table = go.Table(\n",
    "    header=dict(values=['Layer (type)', 'Output Shape', 'Param #'],\n",
    "                fill_color='rgb(55, 55, 55)',\n",
    "                font=dict(color='white')),\n",
    "    cells=dict(values=[model_summary[1:], model_summary[2:], model_summary[3:]],\n",
    "               fill_color='rgb(35, 35, 35)',\n",
    "               font=dict(color='white'))\n",
    ")\n",
    "\n",
    "# Configure the layout of the table\n",
    "layout = go.Layout(\n",
    "    title='Model Summary',\n",
    "    width=800,\n",
    "    height=400,\n",
    "    font=dict(color='white'),\n",
    "    paper_bgcolor='rgb(0, 0, 0)',\n",
    "    plot_bgcolor='rgb(0, 0, 0)'\n",
    ")\n",
    "\n",
    "# Create a Figure object and add the table as data\n",
    "fig = go.Figure(data=[table], layout=layout)\n",
    "\n",
    "# Display the model summary table\n",
    "fig.show()\n"
   ]
  },
  {
   "cell_type": "code",
   "execution_count": 24,
   "id": "2abf5363",
   "metadata": {
    "execution": {
     "iopub.execute_input": "2023-06-12T14:41:43.833674Z",
     "iopub.status.busy": "2023-06-12T14:41:43.833382Z",
     "iopub.status.idle": "2023-06-12T14:41:43.868689Z",
     "shell.execute_reply": "2023-06-12T14:41:43.867642Z"
    },
    "papermill": {
     "duration": 0.05379,
     "end_time": "2023-06-12T14:41:43.871250",
     "exception": false,
     "start_time": "2023-06-12T14:41:43.817460",
     "status": "completed"
    },
    "tags": []
   },
   "outputs": [],
   "source": [
    "datagen = ImageDataGenerator(\n",
    "    featurewise_center=False,\n",
    "    samplewise_center=False,\n",
    "    featurewise_std_normalization=False,\n",
    "    samplewise_std_normalization=False,\n",
    "    zca_whitening=False,\n",
    "    rotation_range=10,\n",
    "    zoom_range=0.1,\n",
    "    width_shift_range=0.1,\n",
    "    height_shift_range=0.1,\n",
    "    horizontal_flip=False,\n",
    "    vertical_flip=False\n",
    ")\n",
    "# Generate augmented images\n",
    "train_gen = datagen.flow(x_train, y_train, batch_size=64)\n",
    "test_gen  = datagen.flow(x_test , y_test , batch_size=64)"
   ]
  },
  {
   "cell_type": "code",
   "execution_count": 25,
   "id": "26be37e6",
   "metadata": {
    "execution": {
     "iopub.execute_input": "2023-06-12T14:41:43.904133Z",
     "iopub.status.busy": "2023-06-12T14:41:43.903546Z",
     "iopub.status.idle": "2023-06-12T14:48:14.216344Z",
     "shell.execute_reply": "2023-06-12T14:48:14.215014Z"
    },
    "papermill": {
     "duration": 390.3317,
     "end_time": "2023-06-12T14:48:14.218600",
     "exception": false,
     "start_time": "2023-06-12T14:41:43.886900",
     "status": "completed"
    },
    "tags": []
   },
   "outputs": [
    {
     "name": "stdout",
     "output_type": "stream",
     "text": [
      "Epoch 1/50\n",
      "208/209 [============================>.] - ETA: 0s - loss: 2.1850 - accuracy: 0.3152\n",
      "Epoch 1: val_accuracy improved from -inf to 0.08173, saving model to best.hdf5\n",
      "209/209 [==============================] - 17s 34ms/step - loss: 2.1826 - accuracy: 0.3158 - val_loss: 4.2943 - val_accuracy: 0.0817\n",
      "Epoch 2/50\n",
      "209/209 [==============================] - ETA: 0s - loss: 1.0153 - accuracy: 0.6523\n",
      "Epoch 2: val_accuracy improved from 0.08173 to 0.34465, saving model to best.hdf5\n",
      "209/209 [==============================] - 7s 32ms/step - loss: 1.0153 - accuracy: 0.6523 - val_loss: 2.1753 - val_accuracy: 0.3447\n",
      "Epoch 3/50\n",
      "208/209 [============================>.] - ETA: 0s - loss: 0.6182 - accuracy: 0.7921\n",
      "Epoch 3: val_accuracy improved from 0.34465 to 0.72266, saving model to best.hdf5\n",
      "209/209 [==============================] - 7s 32ms/step - loss: 0.6170 - accuracy: 0.7926 - val_loss: 0.8454 - val_accuracy: 0.7227\n",
      "Epoch 4/50\n",
      "208/209 [============================>.] - ETA: 0s - loss: 0.4573 - accuracy: 0.8519\n",
      "Epoch 4: val_accuracy improved from 0.72266 to 0.82752, saving model to best.hdf5\n",
      "209/209 [==============================] - 7s 34ms/step - loss: 0.4568 - accuracy: 0.8520 - val_loss: 0.5652 - val_accuracy: 0.8275\n",
      "Epoch 5/50\n",
      "207/209 [============================>.] - ETA: 0s - loss: 0.3612 - accuracy: 0.8832\n",
      "Epoch 5: val_accuracy improved from 0.82752 to 0.84796, saving model to best.hdf5\n",
      "209/209 [==============================] - 7s 32ms/step - loss: 0.3609 - accuracy: 0.8830 - val_loss: 0.4394 - val_accuracy: 0.8480\n",
      "Epoch 6/50\n",
      "209/209 [==============================] - ETA: 0s - loss: 0.3078 - accuracy: 0.9026\n",
      "Epoch 6: val_accuracy improved from 0.84796 to 0.85998, saving model to best.hdf5\n",
      "209/209 [==============================] - 7s 32ms/step - loss: 0.3078 - accuracy: 0.9026 - val_loss: 0.4516 - val_accuracy: 0.8600\n",
      "Epoch 7/50\n",
      "208/209 [============================>.] - ETA: 0s - loss: 0.2682 - accuracy: 0.9164\n",
      "Epoch 7: val_accuracy did not improve from 0.85998\n",
      "209/209 [==============================] - 7s 31ms/step - loss: 0.2692 - accuracy: 0.9162 - val_loss: 0.6496 - val_accuracy: 0.8158\n",
      "Epoch 8/50\n",
      "208/209 [============================>.] - ETA: 0s - loss: 0.2373 - accuracy: 0.9265\n",
      "Epoch 8: val_accuracy improved from 0.85998 to 0.89874, saving model to best.hdf5\n",
      "209/209 [==============================] - 7s 33ms/step - loss: 0.2379 - accuracy: 0.9264 - val_loss: 0.3681 - val_accuracy: 0.8987\n",
      "Epoch 9/50\n",
      "207/209 [============================>.] - ETA: 0s - loss: 0.2197 - accuracy: 0.9333\n",
      "Epoch 9: val_accuracy improved from 0.89874 to 0.93570, saving model to best.hdf5\n",
      "209/209 [==============================] - 7s 32ms/step - loss: 0.2204 - accuracy: 0.9329 - val_loss: 0.2323 - val_accuracy: 0.9357\n",
      "Epoch 10/50\n",
      "207/209 [============================>.] - ETA: 0s - loss: 0.1959 - accuracy: 0.9414\n",
      "Epoch 10: val_accuracy did not improve from 0.93570\n",
      "209/209 [==============================] - 7s 31ms/step - loss: 0.1954 - accuracy: 0.9416 - val_loss: 0.2503 - val_accuracy: 0.9255\n",
      "Epoch 11/50\n",
      "208/209 [============================>.] - ETA: 0s - loss: 0.1901 - accuracy: 0.9413\n",
      "Epoch 11: val_accuracy did not improve from 0.93570\n",
      "209/209 [==============================] - 7s 32ms/step - loss: 0.1898 - accuracy: 0.9414 - val_loss: 0.2136 - val_accuracy: 0.9345\n",
      "Epoch 12/50\n",
      "208/209 [============================>.] - ETA: 0s - loss: 0.1811 - accuracy: 0.9431\n",
      "Epoch 12: val_accuracy did not improve from 0.93570\n",
      "209/209 [==============================] - 6s 31ms/step - loss: 0.1812 - accuracy: 0.9432 - val_loss: 0.3023 - val_accuracy: 0.9135\n",
      "Epoch 13/50\n",
      "208/209 [============================>.] - ETA: 0s - loss: 0.1675 - accuracy: 0.9504\n",
      "Epoch 13: val_accuracy improved from 0.93570 to 0.94561, saving model to best.hdf5\n",
      "209/209 [==============================] - 7s 31ms/step - loss: 0.1675 - accuracy: 0.9504 - val_loss: 0.1913 - val_accuracy: 0.9456\n",
      "Epoch 14/50\n",
      "207/209 [============================>.] - ETA: 0s - loss: 0.1601 - accuracy: 0.9533\n",
      "Epoch 14: val_accuracy did not improve from 0.94561\n",
      "209/209 [==============================] - 7s 33ms/step - loss: 0.1601 - accuracy: 0.9533 - val_loss: 0.4183 - val_accuracy: 0.8600\n",
      "Epoch 15/50\n",
      "209/209 [==============================] - ETA: 0s - loss: 0.1469 - accuracy: 0.9554\n",
      "Epoch 15: val_accuracy did not improve from 0.94561\n",
      "209/209 [==============================] - 6s 31ms/step - loss: 0.1469 - accuracy: 0.9554 - val_loss: 0.2426 - val_accuracy: 0.9303\n",
      "Epoch 16/50\n",
      "209/209 [==============================] - ETA: 0s - loss: 0.1496 - accuracy: 0.9545\n",
      "Epoch 16: val_accuracy improved from 0.94561 to 0.95102, saving model to best.hdf5\n",
      "209/209 [==============================] - 7s 34ms/step - loss: 0.1496 - accuracy: 0.9545 - val_loss: 0.1704 - val_accuracy: 0.9510\n",
      "Epoch 17/50\n",
      "209/209 [==============================] - ETA: 0s - loss: 0.1419 - accuracy: 0.9565\n",
      "Epoch 17: val_accuracy improved from 0.95102 to 0.95162, saving model to best.hdf5\n",
      "209/209 [==============================] - 7s 31ms/step - loss: 0.1419 - accuracy: 0.9565 - val_loss: 0.1589 - val_accuracy: 0.9516\n",
      "Epoch 18/50\n",
      "209/209 [==============================] - ETA: 0s - loss: 0.1245 - accuracy: 0.9636\n",
      "Epoch 18: val_accuracy improved from 0.95162 to 0.95343, saving model to best.hdf5\n",
      "209/209 [==============================] - 6s 31ms/step - loss: 0.1245 - accuracy: 0.9636 - val_loss: 0.1646 - val_accuracy: 0.9534\n",
      "Epoch 19/50\n",
      "209/209 [==============================] - ETA: 0s - loss: 0.1298 - accuracy: 0.9623\n",
      "Epoch 19: val_accuracy did not improve from 0.95343\n",
      "209/209 [==============================] - 6s 30ms/step - loss: 0.1298 - accuracy: 0.9623 - val_loss: 0.1892 - val_accuracy: 0.9498\n",
      "Epoch 20/50\n",
      "208/209 [============================>.] - ETA: 0s - loss: 0.1313 - accuracy: 0.9618\n",
      "Epoch 20: val_accuracy improved from 0.95343 to 0.95853, saving model to best.hdf5\n",
      "209/209 [==============================] - 7s 34ms/step - loss: 0.1313 - accuracy: 0.9616 - val_loss: 0.1651 - val_accuracy: 0.9585\n",
      "Epoch 21/50\n",
      "207/209 [============================>.] - ETA: 0s - loss: 0.1123 - accuracy: 0.9650\n",
      "Epoch 21: val_accuracy did not improve from 0.95853\n",
      "209/209 [==============================] - 7s 31ms/step - loss: 0.1116 - accuracy: 0.9652 - val_loss: 0.2585 - val_accuracy: 0.9273\n",
      "Epoch 22/50\n",
      "208/209 [============================>.] - ETA: 0s - loss: 0.1072 - accuracy: 0.9679\n",
      "Epoch 22: val_accuracy did not improve from 0.95853\n",
      "209/209 [==============================] - 6s 31ms/step - loss: 0.1078 - accuracy: 0.9677 - val_loss: 0.2241 - val_accuracy: 0.9411\n",
      "Epoch 23/50\n",
      "208/209 [============================>.] - ETA: 0s - loss: 0.1118 - accuracy: 0.9669\n",
      "Epoch 23: val_accuracy did not improve from 0.95853\n",
      "209/209 [==============================] - 7s 32ms/step - loss: 0.1114 - accuracy: 0.9671 - val_loss: 0.2115 - val_accuracy: 0.9483\n",
      "Epoch 24/50\n",
      "209/209 [==============================] - ETA: 0s - loss: 0.1188 - accuracy: 0.9680\n",
      "Epoch 24: val_accuracy did not improve from 0.95853\n",
      "209/209 [==============================] - 7s 31ms/step - loss: 0.1188 - accuracy: 0.9680 - val_loss: 0.1688 - val_accuracy: 0.9519\n",
      "Epoch 25/50\n",
      "209/209 [==============================] - ETA: 0s - loss: 0.1112 - accuracy: 0.9682\n",
      "Epoch 25: val_accuracy improved from 0.95853 to 0.96965, saving model to best.hdf5\n",
      "209/209 [==============================] - 6s 31ms/step - loss: 0.1112 - accuracy: 0.9682 - val_loss: 0.1295 - val_accuracy: 0.9697\n",
      "Epoch 26/50\n",
      "208/209 [============================>.] - ETA: 0s - loss: 0.1036 - accuracy: 0.9709\n",
      "Epoch 26: val_accuracy did not improve from 0.96965\n",
      "209/209 [==============================] - 6s 31ms/step - loss: 0.1039 - accuracy: 0.9707 - val_loss: 0.2085 - val_accuracy: 0.9450\n",
      "Epoch 27/50\n",
      "207/209 [============================>.] - ETA: 0s - loss: 0.1022 - accuracy: 0.9708\n",
      "Epoch 27: val_accuracy did not improve from 0.96965\n",
      "209/209 [==============================] - 7s 31ms/step - loss: 0.1028 - accuracy: 0.9706 - val_loss: 0.1442 - val_accuracy: 0.9633\n",
      "Epoch 28/50\n",
      "209/209 [==============================] - ETA: 0s - loss: 0.0962 - accuracy: 0.9720\n",
      "Epoch 28: val_accuracy did not improve from 0.96965\n",
      "209/209 [==============================] - 8s 38ms/step - loss: 0.0962 - accuracy: 0.9720 - val_loss: 0.1521 - val_accuracy: 0.9624\n",
      "Epoch 29/50\n",
      "208/209 [============================>.] - ETA: 0s - loss: 0.1067 - accuracy: 0.9696\n",
      "Epoch 29: val_accuracy did not improve from 0.96965\n",
      "209/209 [==============================] - 7s 31ms/step - loss: 0.1065 - accuracy: 0.9696 - val_loss: 0.1433 - val_accuracy: 0.9606\n",
      "Epoch 30/50\n",
      "208/209 [============================>.] - ETA: 0s - loss: 0.0971 - accuracy: 0.9721\n",
      "Epoch 30: val_accuracy did not improve from 0.96965\n",
      "209/209 [==============================] - 6s 31ms/step - loss: 0.0968 - accuracy: 0.9722 - val_loss: 0.3576 - val_accuracy: 0.9285\n",
      "Epoch 31/50\n",
      "209/209 [==============================] - ETA: 0s - loss: 0.0958 - accuracy: 0.9732\n",
      "Epoch 31: val_accuracy did not improve from 0.96965\n",
      "209/209 [==============================] - 6s 31ms/step - loss: 0.0958 - accuracy: 0.9732 - val_loss: 0.1816 - val_accuracy: 0.9552\n",
      "Epoch 32/50\n",
      "207/209 [============================>.] - ETA: 0s - loss: 0.0867 - accuracy: 0.9736\n",
      "Epoch 32: val_accuracy did not improve from 0.96965\n",
      "209/209 [==============================] - 7s 33ms/step - loss: 0.0868 - accuracy: 0.9735 - val_loss: 2.0994 - val_accuracy: 0.6851\n",
      "Epoch 33/50\n",
      "208/209 [============================>.] - ETA: 0s - loss: 0.0942 - accuracy: 0.9717\n",
      "Epoch 33: val_accuracy did not improve from 0.96965\n",
      "209/209 [==============================] - 6s 31ms/step - loss: 0.0940 - accuracy: 0.9717 - val_loss: 0.1504 - val_accuracy: 0.9633\n",
      "Epoch 34/50\n",
      "209/209 [==============================] - ETA: 0s - loss: 0.0941 - accuracy: 0.9723\n",
      "Epoch 34: val_accuracy did not improve from 0.96965\n",
      "209/209 [==============================] - 7s 31ms/step - loss: 0.0941 - accuracy: 0.9723 - val_loss: 0.1800 - val_accuracy: 0.9552\n",
      "Epoch 35/50\n",
      "209/209 [==============================] - ETA: 0s - loss: 0.0870 - accuracy: 0.9738\n",
      "Epoch 35: val_accuracy did not improve from 0.96965\n",
      "209/209 [==============================] - 7s 31ms/step - loss: 0.0870 - accuracy: 0.9738 - val_loss: 0.2000 - val_accuracy: 0.9498\n",
      "Epoch 36/50\n",
      "209/209 [==============================] - ETA: 0s - loss: 0.0842 - accuracy: 0.9763\n",
      "Epoch 36: val_accuracy did not improve from 0.96965\n",
      "209/209 [==============================] - 7s 33ms/step - loss: 0.0842 - accuracy: 0.9763 - val_loss: 0.1882 - val_accuracy: 0.9537\n",
      "Epoch 37/50\n",
      "209/209 [==============================] - ETA: 0s - loss: 0.0822 - accuracy: 0.9773\n",
      "Epoch 37: val_accuracy did not improve from 0.96965\n",
      "209/209 [==============================] - 7s 32ms/step - loss: 0.0822 - accuracy: 0.9773 - val_loss: 0.1803 - val_accuracy: 0.9615\n",
      "Epoch 38/50\n",
      "209/209 [==============================] - ETA: 0s - loss: 0.0707 - accuracy: 0.9793\n",
      "Epoch 38: val_accuracy did not improve from 0.96965\n",
      "209/209 [==============================] - 6s 31ms/step - loss: 0.0707 - accuracy: 0.9793 - val_loss: 0.1480 - val_accuracy: 0.9609\n",
      "Epoch 39/50\n",
      "209/209 [==============================] - ETA: 0s - loss: 0.0850 - accuracy: 0.9752\n",
      "Epoch 39: val_accuracy did not improve from 0.96965\n",
      "209/209 [==============================] - 7s 31ms/step - loss: 0.0850 - accuracy: 0.9752 - val_loss: 0.1372 - val_accuracy: 0.9663\n",
      "Epoch 40/50\n",
      "208/209 [============================>.] - ETA: 0s - loss: 0.0752 - accuracy: 0.9772\n",
      "Epoch 40: val_accuracy did not improve from 0.96965\n",
      "209/209 [==============================] - 7s 33ms/step - loss: 0.0752 - accuracy: 0.9771 - val_loss: 0.1323 - val_accuracy: 0.9672\n",
      "Epoch 41/50\n",
      "209/209 [==============================] - ETA: 0s - loss: 0.0707 - accuracy: 0.9800\n",
      "Epoch 41: val_accuracy did not improve from 0.96965\n",
      "209/209 [==============================] - 7s 31ms/step - loss: 0.0707 - accuracy: 0.9800 - val_loss: 0.1539 - val_accuracy: 0.9678\n",
      "Epoch 42/50\n",
      "209/209 [==============================] - ETA: 0s - loss: 0.0715 - accuracy: 0.9781\n",
      "Epoch 42: val_accuracy did not improve from 0.96965\n",
      "209/209 [==============================] - 7s 32ms/step - loss: 0.0715 - accuracy: 0.9781 - val_loss: 0.1654 - val_accuracy: 0.9588\n",
      "Epoch 43/50\n",
      "207/209 [============================>.] - ETA: 0s - loss: 0.0724 - accuracy: 0.9811\n",
      "Epoch 43: val_accuracy did not improve from 0.96965\n",
      "209/209 [==============================] - 6s 31ms/step - loss: 0.0739 - accuracy: 0.9809 - val_loss: 0.1916 - val_accuracy: 0.9483\n",
      "Epoch 44/50\n",
      "209/209 [==============================] - ETA: 0s - loss: 0.0680 - accuracy: 0.9797\n",
      "Epoch 44: val_accuracy did not improve from 0.96965\n",
      "209/209 [==============================] - 7s 32ms/step - loss: 0.0680 - accuracy: 0.9797 - val_loss: 0.1534 - val_accuracy: 0.9633\n",
      "Epoch 45/50\n",
      "209/209 [==============================] - ETA: 0s - loss: 0.0804 - accuracy: 0.9770\n",
      "Epoch 45: val_accuracy did not improve from 0.96965\n",
      "209/209 [==============================] - 7s 33ms/step - loss: 0.0804 - accuracy: 0.9770 - val_loss: 0.1933 - val_accuracy: 0.9570\n",
      "Epoch 46/50\n",
      "208/209 [============================>.] - ETA: 0s - loss: 0.0780 - accuracy: 0.9766\n",
      "Epoch 46: val_accuracy did not improve from 0.96965\n",
      "209/209 [==============================] - 7s 32ms/step - loss: 0.0779 - accuracy: 0.9766 - val_loss: 0.1364 - val_accuracy: 0.9678\n",
      "Epoch 47/50\n",
      "209/209 [==============================] - ETA: 0s - loss: 0.0705 - accuracy: 0.9804\n",
      "Epoch 47: val_accuracy did not improve from 0.96965\n",
      "209/209 [==============================] - 7s 31ms/step - loss: 0.0705 - accuracy: 0.9804 - val_loss: 0.1579 - val_accuracy: 0.9615\n",
      "Epoch 48/50\n",
      "209/209 [==============================] - ETA: 0s - loss: 0.0713 - accuracy: 0.9788\n",
      "Epoch 48: val_accuracy did not improve from 0.96965\n",
      "209/209 [==============================] - 6s 30ms/step - loss: 0.0713 - accuracy: 0.9788 - val_loss: 0.1692 - val_accuracy: 0.9633\n",
      "Epoch 49/50\n",
      "208/209 [============================>.] - ETA: 0s - loss: 0.0744 - accuracy: 0.9775\n",
      "Epoch 49: val_accuracy did not improve from 0.96965\n",
      "209/209 [==============================] - 6s 31ms/step - loss: 0.0742 - accuracy: 0.9775 - val_loss: 0.1588 - val_accuracy: 0.9633\n",
      "Epoch 50/50\n",
      "209/209 [==============================] - ETA: 0s - loss: 0.0711 - accuracy: 0.9794\n",
      "Epoch 50: val_accuracy did not improve from 0.96965\n",
      "209/209 [==============================] - 7s 33ms/step - loss: 0.0711 - accuracy: 0.9794 - val_loss: 2.1248 - val_accuracy: 0.6773\n",
      "Train Success!!\n"
     ]
    }
   ],
   "source": [
    "model_checkpoint_callback = ModelCheckpoint(\n",
    "    filepath=\"best.hdf5\",\n",
    "    monitor='val_accuracy',\n",
    "    verbose=1,\n",
    "    save_best_only=True,\n",
    "    mode='max'\n",
    ")\n",
    "\n",
    "# Train the model\n",
    "history = model.fit(\n",
    "    train_gen,\n",
    "    epochs=50,\n",
    "    verbose=1,\n",
    "    steps_per_epoch=x_train.shape[0] // 64,\n",
    "    validation_data=test_gen,\n",
    "    validation_steps=x_test.shape[0] // 64,\n",
    "    callbacks=[model_checkpoint_callback]\n",
    ")\n",
    "print(\"Train Success!!\")"
   ]
  },
  {
   "cell_type": "code",
   "execution_count": 26,
   "id": "efa8a339",
   "metadata": {
    "execution": {
     "iopub.execute_input": "2023-06-12T14:48:15.795386Z",
     "iopub.status.busy": "2023-06-12T14:48:15.794997Z",
     "iopub.status.idle": "2023-06-12T14:48:15.872524Z",
     "shell.execute_reply": "2023-06-12T14:48:15.871517Z"
    },
    "papermill": {
     "duration": 0.484442,
     "end_time": "2023-06-12T14:48:15.874799",
     "exception": false,
     "start_time": "2023-06-12T14:48:15.390357",
     "status": "completed"
    },
    "tags": []
   },
   "outputs": [
    {
     "data": {
      "text/html": [
       "<div>                            <div id=\"699d2e8e-0a00-40c4-9694-852f9af9d58b\" class=\"plotly-graph-div\" style=\"height:600px; width:800px;\"></div>            <script type=\"text/javascript\">                require([\"plotly\"], function(Plotly) {                    window.PLOTLYENV=window.PLOTLYENV || {};                                    if (document.getElementById(\"699d2e8e-0a00-40c4-9694-852f9af9d58b\")) {                    Plotly.newPlot(                        \"699d2e8e-0a00-40c4-9694-852f9af9d58b\",                        [{\"name\":\"Accuracy\",\"x\":[0,1,2,3,4,5,6,7,8,9,10,11,12,13,14,15,16,17,18,19,20,21,22,23,24,25,26,27,28,29,30,31,32,33,34,35,36,37,38,39,40,41,42,43,44,45,46,47,48,49],\"y\":[0.3158130943775177,0.6522616744041443,0.7925981283187866,0.8519626259803772,0.8829906582832336,0.9025794267654419,0.9161869287490845,0.9263551235198975,0.932934582233429,0.9416074752807617,0.9413831830024719,0.9431775808334351,0.9503551125526428,0.953345775604248,0.955364465713501,0.9544672966003418,0.9564859867095947,0.9635887742042542,0.9623177647590637,0.9616448879241943,0.9652336239814758,0.9677009582519531,0.9671028256416321,0.9679999947547913,0.968224287033081,0.9706915616989136,0.9706168174743652,0.9720373749732971,0.9696448445320129,0.9721869230270386,0.9732336401939392,0.973457932472229,0.9716635346412659,0.9722616672515869,0.9738317728042603,0.9762990474700928,0.9773457646369934,0.979289710521698,0.9751775860786438,0.9771214723587036,0.9799625873565674,0.9780934453010559,0.9808598160743713,0.9797382950782776,0.9769719839096069,0.9765981435775757,0.9804112315177917,0.9788411259651184,0.9774953126907349,0.9793645143508911],\"type\":\"scatter\"},{\"name\":\"Validation Accuracy\",\"x\":[0,1,2,3,4,5,6,7,8,9,10,11,12,13,14,15,16,17,18,19,20,21,22,23,24,25,26,27,28,29,30,31,32,33,34,35,36,37,38,39,40,41,42,43,44,45,46,47,48,49],\"y\":[0.08173076808452606,0.3446514308452606,0.72265625,0.8275240659713745,0.8479567170143127,0.8599759340286255,0.8158053159713745,0.8987379670143127,0.9356971383094788,0.9254807829856873,0.934495210647583,0.9134615659713745,0.9456129670143127,0.8599759340286255,0.9302884340286255,0.9510216116905212,0.9516226053237915,0.9534254670143127,0.9498196840286255,0.9585336446762085,0.9272836446762085,0.9411057829856873,0.948317289352417,0.9519230723381042,0.969651460647583,0.9450120329856873,0.9633413553237915,0.9624398946762085,0.9606370329856873,0.9284855723381042,0.9552283883094788,0.6850961446762085,0.9633413553237915,0.9552283883094788,0.9498196840286255,0.9537259340286255,0.9615384340286255,0.9609375,0.9663461446762085,0.9672476053237915,0.967848539352417,0.9588341116905212,0.948317289352417,0.9633413553237915,0.95703125,0.967848539352417,0.9615384340286255,0.9633413553237915,0.9633413553237915,0.6772836446762085],\"type\":\"scatter\"}],                        {\"template\":{\"data\":{\"histogram2dcontour\":[{\"type\":\"histogram2dcontour\",\"colorbar\":{\"outlinewidth\":0,\"ticks\":\"\"},\"colorscale\":[[0.0,\"#0d0887\"],[0.1111111111111111,\"#46039f\"],[0.2222222222222222,\"#7201a8\"],[0.3333333333333333,\"#9c179e\"],[0.4444444444444444,\"#bd3786\"],[0.5555555555555556,\"#d8576b\"],[0.6666666666666666,\"#ed7953\"],[0.7777777777777778,\"#fb9f3a\"],[0.8888888888888888,\"#fdca26\"],[1.0,\"#f0f921\"]]}],\"choropleth\":[{\"type\":\"choropleth\",\"colorbar\":{\"outlinewidth\":0,\"ticks\":\"\"}}],\"histogram2d\":[{\"type\":\"histogram2d\",\"colorbar\":{\"outlinewidth\":0,\"ticks\":\"\"},\"colorscale\":[[0.0,\"#0d0887\"],[0.1111111111111111,\"#46039f\"],[0.2222222222222222,\"#7201a8\"],[0.3333333333333333,\"#9c179e\"],[0.4444444444444444,\"#bd3786\"],[0.5555555555555556,\"#d8576b\"],[0.6666666666666666,\"#ed7953\"],[0.7777777777777778,\"#fb9f3a\"],[0.8888888888888888,\"#fdca26\"],[1.0,\"#f0f921\"]]}],\"heatmap\":[{\"type\":\"heatmap\",\"colorbar\":{\"outlinewidth\":0,\"ticks\":\"\"},\"colorscale\":[[0.0,\"#0d0887\"],[0.1111111111111111,\"#46039f\"],[0.2222222222222222,\"#7201a8\"],[0.3333333333333333,\"#9c179e\"],[0.4444444444444444,\"#bd3786\"],[0.5555555555555556,\"#d8576b\"],[0.6666666666666666,\"#ed7953\"],[0.7777777777777778,\"#fb9f3a\"],[0.8888888888888888,\"#fdca26\"],[1.0,\"#f0f921\"]]}],\"heatmapgl\":[{\"type\":\"heatmapgl\",\"colorbar\":{\"outlinewidth\":0,\"ticks\":\"\"},\"colorscale\":[[0.0,\"#0d0887\"],[0.1111111111111111,\"#46039f\"],[0.2222222222222222,\"#7201a8\"],[0.3333333333333333,\"#9c179e\"],[0.4444444444444444,\"#bd3786\"],[0.5555555555555556,\"#d8576b\"],[0.6666666666666666,\"#ed7953\"],[0.7777777777777778,\"#fb9f3a\"],[0.8888888888888888,\"#fdca26\"],[1.0,\"#f0f921\"]]}],\"contourcarpet\":[{\"type\":\"contourcarpet\",\"colorbar\":{\"outlinewidth\":0,\"ticks\":\"\"}}],\"contour\":[{\"type\":\"contour\",\"colorbar\":{\"outlinewidth\":0,\"ticks\":\"\"},\"colorscale\":[[0.0,\"#0d0887\"],[0.1111111111111111,\"#46039f\"],[0.2222222222222222,\"#7201a8\"],[0.3333333333333333,\"#9c179e\"],[0.4444444444444444,\"#bd3786\"],[0.5555555555555556,\"#d8576b\"],[0.6666666666666666,\"#ed7953\"],[0.7777777777777778,\"#fb9f3a\"],[0.8888888888888888,\"#fdca26\"],[1.0,\"#f0f921\"]]}],\"surface\":[{\"type\":\"surface\",\"colorbar\":{\"outlinewidth\":0,\"ticks\":\"\"},\"colorscale\":[[0.0,\"#0d0887\"],[0.1111111111111111,\"#46039f\"],[0.2222222222222222,\"#7201a8\"],[0.3333333333333333,\"#9c179e\"],[0.4444444444444444,\"#bd3786\"],[0.5555555555555556,\"#d8576b\"],[0.6666666666666666,\"#ed7953\"],[0.7777777777777778,\"#fb9f3a\"],[0.8888888888888888,\"#fdca26\"],[1.0,\"#f0f921\"]]}],\"mesh3d\":[{\"type\":\"mesh3d\",\"colorbar\":{\"outlinewidth\":0,\"ticks\":\"\"}}],\"scatter\":[{\"fillpattern\":{\"fillmode\":\"overlay\",\"size\":10,\"solidity\":0.2},\"type\":\"scatter\"}],\"parcoords\":[{\"type\":\"parcoords\",\"line\":{\"colorbar\":{\"outlinewidth\":0,\"ticks\":\"\"}}}],\"scatterpolargl\":[{\"type\":\"scatterpolargl\",\"marker\":{\"colorbar\":{\"outlinewidth\":0,\"ticks\":\"\"}}}],\"bar\":[{\"error_x\":{\"color\":\"#2a3f5f\"},\"error_y\":{\"color\":\"#2a3f5f\"},\"marker\":{\"line\":{\"color\":\"#E5ECF6\",\"width\":0.5},\"pattern\":{\"fillmode\":\"overlay\",\"size\":10,\"solidity\":0.2}},\"type\":\"bar\"}],\"scattergeo\":[{\"type\":\"scattergeo\",\"marker\":{\"colorbar\":{\"outlinewidth\":0,\"ticks\":\"\"}}}],\"scatterpolar\":[{\"type\":\"scatterpolar\",\"marker\":{\"colorbar\":{\"outlinewidth\":0,\"ticks\":\"\"}}}],\"histogram\":[{\"marker\":{\"pattern\":{\"fillmode\":\"overlay\",\"size\":10,\"solidity\":0.2}},\"type\":\"histogram\"}],\"scattergl\":[{\"type\":\"scattergl\",\"marker\":{\"colorbar\":{\"outlinewidth\":0,\"ticks\":\"\"}}}],\"scatter3d\":[{\"type\":\"scatter3d\",\"line\":{\"colorbar\":{\"outlinewidth\":0,\"ticks\":\"\"}},\"marker\":{\"colorbar\":{\"outlinewidth\":0,\"ticks\":\"\"}}}],\"scattermapbox\":[{\"type\":\"scattermapbox\",\"marker\":{\"colorbar\":{\"outlinewidth\":0,\"ticks\":\"\"}}}],\"scatterternary\":[{\"type\":\"scatterternary\",\"marker\":{\"colorbar\":{\"outlinewidth\":0,\"ticks\":\"\"}}}],\"scattercarpet\":[{\"type\":\"scattercarpet\",\"marker\":{\"colorbar\":{\"outlinewidth\":0,\"ticks\":\"\"}}}],\"carpet\":[{\"aaxis\":{\"endlinecolor\":\"#2a3f5f\",\"gridcolor\":\"white\",\"linecolor\":\"white\",\"minorgridcolor\":\"white\",\"startlinecolor\":\"#2a3f5f\"},\"baxis\":{\"endlinecolor\":\"#2a3f5f\",\"gridcolor\":\"white\",\"linecolor\":\"white\",\"minorgridcolor\":\"white\",\"startlinecolor\":\"#2a3f5f\"},\"type\":\"carpet\"}],\"table\":[{\"cells\":{\"fill\":{\"color\":\"#EBF0F8\"},\"line\":{\"color\":\"white\"}},\"header\":{\"fill\":{\"color\":\"#C8D4E3\"},\"line\":{\"color\":\"white\"}},\"type\":\"table\"}],\"barpolar\":[{\"marker\":{\"line\":{\"color\":\"#E5ECF6\",\"width\":0.5},\"pattern\":{\"fillmode\":\"overlay\",\"size\":10,\"solidity\":0.2}},\"type\":\"barpolar\"}],\"pie\":[{\"automargin\":true,\"type\":\"pie\"}]},\"layout\":{\"autotypenumbers\":\"strict\",\"colorway\":[\"#636efa\",\"#EF553B\",\"#00cc96\",\"#ab63fa\",\"#FFA15A\",\"#19d3f3\",\"#FF6692\",\"#B6E880\",\"#FF97FF\",\"#FECB52\"],\"font\":{\"color\":\"#2a3f5f\"},\"hovermode\":\"closest\",\"hoverlabel\":{\"align\":\"left\"},\"paper_bgcolor\":\"white\",\"plot_bgcolor\":\"#E5ECF6\",\"polar\":{\"bgcolor\":\"#E5ECF6\",\"angularaxis\":{\"gridcolor\":\"white\",\"linecolor\":\"white\",\"ticks\":\"\"},\"radialaxis\":{\"gridcolor\":\"white\",\"linecolor\":\"white\",\"ticks\":\"\"}},\"ternary\":{\"bgcolor\":\"#E5ECF6\",\"aaxis\":{\"gridcolor\":\"white\",\"linecolor\":\"white\",\"ticks\":\"\"},\"baxis\":{\"gridcolor\":\"white\",\"linecolor\":\"white\",\"ticks\":\"\"},\"caxis\":{\"gridcolor\":\"white\",\"linecolor\":\"white\",\"ticks\":\"\"}},\"coloraxis\":{\"colorbar\":{\"outlinewidth\":0,\"ticks\":\"\"}},\"colorscale\":{\"sequential\":[[0.0,\"#0d0887\"],[0.1111111111111111,\"#46039f\"],[0.2222222222222222,\"#7201a8\"],[0.3333333333333333,\"#9c179e\"],[0.4444444444444444,\"#bd3786\"],[0.5555555555555556,\"#d8576b\"],[0.6666666666666666,\"#ed7953\"],[0.7777777777777778,\"#fb9f3a\"],[0.8888888888888888,\"#fdca26\"],[1.0,\"#f0f921\"]],\"sequentialminus\":[[0.0,\"#0d0887\"],[0.1111111111111111,\"#46039f\"],[0.2222222222222222,\"#7201a8\"],[0.3333333333333333,\"#9c179e\"],[0.4444444444444444,\"#bd3786\"],[0.5555555555555556,\"#d8576b\"],[0.6666666666666666,\"#ed7953\"],[0.7777777777777778,\"#fb9f3a\"],[0.8888888888888888,\"#fdca26\"],[1.0,\"#f0f921\"]],\"diverging\":[[0,\"#8e0152\"],[0.1,\"#c51b7d\"],[0.2,\"#de77ae\"],[0.3,\"#f1b6da\"],[0.4,\"#fde0ef\"],[0.5,\"#f7f7f7\"],[0.6,\"#e6f5d0\"],[0.7,\"#b8e186\"],[0.8,\"#7fbc41\"],[0.9,\"#4d9221\"],[1,\"#276419\"]]},\"xaxis\":{\"gridcolor\":\"white\",\"linecolor\":\"white\",\"ticks\":\"\",\"title\":{\"standoff\":15},\"zerolinecolor\":\"white\",\"automargin\":true,\"zerolinewidth\":2},\"yaxis\":{\"gridcolor\":\"white\",\"linecolor\":\"white\",\"ticks\":\"\",\"title\":{\"standoff\":15},\"zerolinecolor\":\"white\",\"automargin\":true,\"zerolinewidth\":2},\"scene\":{\"xaxis\":{\"backgroundcolor\":\"#E5ECF6\",\"gridcolor\":\"white\",\"linecolor\":\"white\",\"showbackground\":true,\"ticks\":\"\",\"zerolinecolor\":\"white\",\"gridwidth\":2},\"yaxis\":{\"backgroundcolor\":\"#E5ECF6\",\"gridcolor\":\"white\",\"linecolor\":\"white\",\"showbackground\":true,\"ticks\":\"\",\"zerolinecolor\":\"white\",\"gridwidth\":2},\"zaxis\":{\"backgroundcolor\":\"#E5ECF6\",\"gridcolor\":\"white\",\"linecolor\":\"white\",\"showbackground\":true,\"ticks\":\"\",\"zerolinecolor\":\"white\",\"gridwidth\":2}},\"shapedefaults\":{\"line\":{\"color\":\"#2a3f5f\"}},\"annotationdefaults\":{\"arrowcolor\":\"#2a3f5f\",\"arrowhead\":0,\"arrowwidth\":1},\"geo\":{\"bgcolor\":\"white\",\"landcolor\":\"#E5ECF6\",\"subunitcolor\":\"white\",\"showland\":true,\"showlakes\":true,\"lakecolor\":\"white\"},\"title\":{\"x\":0.05},\"mapbox\":{\"style\":\"light\"}}},\"legend\":{\"x\":0.7,\"y\":0.9},\"font\":{\"color\":\"white\"},\"title\":{\"text\":\"Training and Validation Accuracy\"},\"xaxis\":{\"title\":{\"text\":\"Epoch\"}},\"yaxis\":{\"title\":{\"text\":\"Accuracy\"}},\"width\":800,\"height\":600,\"plot_bgcolor\":\"rgb(17,17,17)\",\"paper_bgcolor\":\"rgb(17,17,17)\"},                        {\"responsive\": true}                    ).then(function(){\n",
       "                            \n",
       "var gd = document.getElementById('699d2e8e-0a00-40c4-9694-852f9af9d58b');\n",
       "var x = new MutationObserver(function (mutations, observer) {{\n",
       "        var display = window.getComputedStyle(gd).display;\n",
       "        if (!display || display === 'none') {{\n",
       "            console.log([gd, 'removed!']);\n",
       "            Plotly.purge(gd);\n",
       "            observer.disconnect();\n",
       "        }}\n",
       "}});\n",
       "\n",
       "// Listen for the removal of the full notebook cells\n",
       "var notebookContainer = gd.closest('#notebook-container');\n",
       "if (notebookContainer) {{\n",
       "    x.observe(notebookContainer, {childList: true});\n",
       "}}\n",
       "\n",
       "// Listen for the clearing of the current output cell\n",
       "var outputEl = gd.closest('.output');\n",
       "if (outputEl) {{\n",
       "    x.observe(outputEl, {childList: true});\n",
       "}}\n",
       "\n",
       "                        })                };                });            </script>        </div>"
      ]
     },
     "metadata": {},
     "output_type": "display_data"
    }
   ],
   "source": [
    "# Create a figure\n",
    "fig = go.Figure()\n",
    "\n",
    "# Add accuracy and validation accuracy traces\n",
    "fig.add_trace(go.Scatter(x=history.epoch, y=history.history['accuracy'], name='Accuracy'))\n",
    "fig.add_trace(go.Scatter(x=history.epoch, y=history.history['val_accuracy'], name='Validation Accuracy'))\n",
    "\n",
    "# Set the layout\n",
    "fig.update_layout(\n",
    "    title='Training and Validation Accuracy',\n",
    "    xaxis_title='Epoch',\n",
    "    yaxis_title='Accuracy',\n",
    "    legend=dict(x=0.7, y=0.9),\n",
    "    width=800,\n",
    "    height=600,\n",
    "    plot_bgcolor='rgb(17,17,17)',  # Set the plot background color to dark\n",
    "    paper_bgcolor='rgb(17,17,17)',  # Set the paper background color to dark\n",
    "    font=dict(color='white')  # Set the font color to white\n",
    ")\n",
    "\n",
    "# Show the figure\n",
    "fig.show()\n"
   ]
  },
  {
   "cell_type": "code",
   "execution_count": 27,
   "id": "b1b659c3",
   "metadata": {
    "execution": {
     "iopub.execute_input": "2023-06-12T14:48:16.586076Z",
     "iopub.status.busy": "2023-06-12T14:48:16.585708Z",
     "iopub.status.idle": "2023-06-12T14:48:17.770764Z",
     "shell.execute_reply": "2023-06-12T14:48:17.768994Z"
    },
    "papermill": {
     "duration": 1.553322,
     "end_time": "2023-06-12T14:48:17.772865",
     "exception": false,
     "start_time": "2023-06-12T14:48:16.219543",
     "status": "completed"
    },
    "tags": []
   },
   "outputs": [
    {
     "name": "stdout",
     "output_type": "stream",
     "text": [
      "105/105 [==============================] - 1s 3ms/step\n"
     ]
    },
    {
     "data": {
      "image/png": "[encoded data removed]",
      "text/plain": [
       "<Figure size 1000x400 with 2 Axes>"
      ]
     },
     "metadata": {},
     "output_type": "display_data"
    },
    {
     "data": {
      "image/png": "[encoded data removed]",
      "text/plain": [
       "<Figure size 640x480 with 1 Axes>"
      ]
     },
     "metadata": {},
     "output_type": "display_data"
    }
   ],
   "source": [
    "# Reshape the test data\n",
    "x_test_reshaped = x_test.reshape(-1, 32, 32, 1)\n",
    "\n",
    "# Make predictions on the transposed image\n",
    "pred = model.predict(x_test_reshaped)\n",
    "\n",
    "# Get the predicted label for the first image\n",
    "predicted_label = arabic_chars[np.argmax(pred[0])]\n",
    "\n",
    "# Visualize original and transposed images using Matplotlib\n",
    "plt.figure(figsize=(10, 4))\n",
    "\n",
    "# Original Image\n",
    "plt.subplot(1, 2, 1)\n",
    "plt.imshow(x_test[0].reshape(32, 32), cmap='gray')\n",
    "plt.axis('off')\n",
    "plt.title('Original Image')\n",
    "\n",
    "# Transposed Image\n",
    "plt.subplot(1, 2, 2)\n",
    "plt.imshow(x_test[0].reshape(32, 32).T, cmap='gray')\n",
    "plt.axis('off')\n",
    "plt.title('Transposed Image')\n",
    "\n",
    "plt.tight_layout()\n",
    "plt.show()\n",
    "\n",
    "# Display the predicted label for the transposed image\n",
    "plt.imshow(x_test[0].reshape(32, 32).T, cmap='gray')\n",
    "plt.title(f'Predicted Label: {predicted_label}')\n",
    "plt.axis('off')\n",
    "plt.show()"
   ]
  },
  {
   "cell_type": "code",
   "execution_count": 28,
   "id": "ccc54b6d",
   "metadata": {
    "execution": {
     "iopub.execute_input": "2023-06-12T14:48:18.445398Z",
     "iopub.status.busy": "2023-06-12T14:48:18.445032Z",
     "iopub.status.idle": "2023-06-12T14:48:19.745249Z",
     "shell.execute_reply": "2023-06-12T14:48:19.744394Z"
    },
    "papermill": {
     "duration": 1.637149,
     "end_time": "2023-06-12T14:48:19.747259",
     "exception": false,
     "start_time": "2023-06-12T14:48:18.110110",
     "status": "completed"
    },
    "tags": []
   },
   "outputs": [
    {
     "name": "stdout",
     "output_type": "stream",
     "text": [
      "105/105 [==============================] - 0s 2ms/step\n"
     ]
    },
    {
     "data": {
      "text/html": [
       "<div>                            <div id=\"7b2fdc7f-afa7-4061-b118-e708366b5fb6\" class=\"plotly-graph-div\" style=\"height:600px; width:800px;\"></div>            <script type=\"text/javascript\">                require([\"plotly\"], function(Plotly) {                    window.PLOTLYENV=window.PLOTLYENV || {};                                    if (document.getElementById(\"7b2fdc7f-afa7-4061-b118-e708366b5fb6\")) {                    Plotly.newPlot(                        \"7b2fdc7f-afa7-4061-b118-e708366b5fb6\",                        [{\"colorscale\":[[0.0,\"#440154\"],[0.1111111111111111,\"#482878\"],[0.2222222222222222,\"#3e4989\"],[0.3333333333333333,\"#31688e\"],[0.4444444444444444,\"#26828e\"],[0.5555555555555556,\"#1f9e89\"],[0.6666666666666666,\"#35b779\"],[0.7777777777777778,\"#6ece58\"],[0.8888888888888888,\"#b5de2b\"],[1.0,\"#fde725\"]],\"hoverongaps\":false,\"showscale\":false,\"text\":[[\"118<br>Correlation: 0.99\",\"0<br>Correlation: 0.00\",\"0<br>Correlation: 0.00\",\"1<br>Correlation: 0.01\",\"0<br>Correlation: 0.00\",\"0<br>Correlation: 0.00\",\"0<br>Correlation: 0.00\",\"0<br>Correlation: 0.00\",\"0<br>Correlation: 0.00\",\"0<br>Correlation: 0.00\",\"0<br>Correlation: 0.00\",\"0<br>Correlation: 0.00\",\"0<br>Correlation: 0.00\",\"0<br>Correlation: 0.00\",\"0<br>Correlation: 0.00\",\"0<br>Correlation: 0.00\",\"0<br>Correlation: 0.00\",\"0<br>Correlation: 0.00\",\"0<br>Correlation: 0.00\",\"0<br>Correlation: 0.00\",\"0<br>Correlation: 0.00\",\"0<br>Correlation: 0.00\",\"0<br>Correlation: 0.00\",\"0<br>Correlation: 0.00\",\"0<br>Correlation: 0.00\",\"0<br>Correlation: 0.00\",\"0<br>Correlation: 0.00\",\"0<br>Correlation: 0.00\"],[\"0<br>Correlation: 0.00\",\"108<br>Correlation: 0.90\",\"3<br>Correlation: 0.03\",\"1<br>Correlation: 0.01\",\"0<br>Correlation: 0.00\",\"0<br>Correlation: 0.00\",\"1<br>Correlation: 0.01\",\"0<br>Correlation: 0.00\",\"0<br>Correlation: 0.00\",\"0<br>Correlation: 0.00\",\"0<br>Correlation: 0.00\",\"0<br>Correlation: 0.00\",\"1<br>Correlation: 0.01\",\"0<br>Correlation: 0.00\",\"0<br>Correlation: 0.00\",\"0<br>Correlation: 0.00\",\"0<br>Correlation: 0.00\",\"0<br>Correlation: 0.00\",\"0<br>Correlation: 0.00\",\"0<br>Correlation: 0.00\",\"0<br>Correlation: 0.00\",\"0<br>Correlation: 0.00\",\"0<br>Correlation: 0.00\",\"0<br>Correlation: 0.00\",\"0<br>Correlation: 0.00\",\"0<br>Correlation: 0.00\",\"0<br>Correlation: 0.00\",\"6<br>Correlation: 0.05\"],[\"0<br>Correlation: 0.00\",\"0<br>Correlation: 0.00\",\"30<br>Correlation: 0.25\",\"90<br>Correlation: 0.75\",\"0<br>Correlation: 0.00\",\"0<br>Correlation: 0.00\",\"0<br>Correlation: 0.00\",\"0<br>Correlation: 0.00\",\"0<br>Correlation: 0.00\",\"0<br>Correlation: 0.00\",\"0<br>Correlation: 0.00\",\"0<br>Correlation: 0.00\",\"0<br>Correlation: 0.00\",\"0<br>Correlation: 0.00\",\"0<br>Correlation: 0.00\",\"0<br>Correlation: 0.00\",\"0<br>Correlation: 0.00\",\"0<br>Correlation: 0.00\",\"0<br>Correlation: 0.00\",\"0<br>Correlation: 0.00\",\"0<br>Correlation: 0.00\",\"0<br>Correlation: 0.00\",\"0<br>Correlation: 0.00\",\"0<br>Correlation: 0.00\",\"0<br>Correlation: 0.00\",\"0<br>Correlation: 0.00\",\"0<br>Correlation: 0.00\",\"0<br>Correlation: 0.00\"],[\"0<br>Correlation: 0.00\",\"0<br>Correlation: 0.00\",\"0<br>Correlation: 0.00\",\"120<br>Correlation: 1.00\",\"0<br>Correlation: 0.00\",\"0<br>Correlation: 0.00\",\"0<br>Correlation: 0.00\",\"0<br>Correlation: 0.00\",\"0<br>Correlation: 0.00\",\"0<br>Correlation: 0.00\",\"0<br>Correlation: 0.00\",\"0<br>Correlation: 0.00\",\"0<br>Correlation: 0.00\",\"0<br>Correlation: 0.00\",\"0<br>Correlation: 0.00\",\"0<br>Correlation: 0.00\",\"0<br>Correlation: 0.00\",\"0<br>Correlation: 0.00\",\"0<br>Correlation: 0.00\",\"0<br>Correlation: 0.00\",\"0<br>Correlation: 0.00\",\"0<br>Correlation: 0.00\",\"0<br>Correlation: 0.00\",\"0<br>Correlation: 0.00\",\"0<br>Correlation: 0.00\",\"0<br>Correlation: 0.00\",\"0<br>Correlation: 0.00\",\"0<br>Correlation: 0.00\"],[\"0<br>Correlation: 0.00\",\"0<br>Correlation: 0.00\",\"0<br>Correlation: 0.00\",\"0<br>Correlation: 0.00\",\"114<br>Correlation: 0.95\",\"0<br>Correlation: 0.00\",\"6<br>Correlation: 0.05\",\"0<br>Correlation: 0.00\",\"0<br>Correlation: 0.00\",\"0<br>Correlation: 0.00\",\"0<br>Correlation: 0.00\",\"0<br>Correlation: 0.00\",\"0<br>Correlation: 0.00\",\"0<br>Correlation: 0.00\",\"0<br>Correlation: 0.00\",\"0<br>Correlation: 0.00\",\"0<br>Correlation: 0.00\",\"0<br>Correlation: 0.00\",\"0<br>Correlation: 0.00\",\"0<br>Correlation: 0.00\",\"0<br>Correlation: 0.00\",\"0<br>Correlation: 0.00\",\"0<br>Correlation: 0.00\",\"0<br>Correlation: 0.00\",\"0<br>Correlation: 0.00\",\"0<br>Correlation: 0.00\",\"0<br>Correlation: 0.00\",\"0<br>Correlation: 0.00\"],[\"0<br>Correlation: 0.00\",\"0<br>Correlation: 0.00\",\"0<br>Correlation: 0.00\",\"1<br>Correlation: 0.01\",\"30<br>Correlation: 0.25\",\"5<br>Correlation: 0.04\",\"84<br>Correlation: 0.70\",\"0<br>Correlation: 0.00\",\"0<br>Correlation: 0.00\",\"0<br>Correlation: 0.00\",\"0<br>Correlation: 0.00\",\"0<br>Correlation: 0.00\",\"0<br>Correlation: 0.00\",\"0<br>Correlation: 0.00\",\"0<br>Correlation: 0.00\",\"0<br>Correlation: 0.00\",\"0<br>Correlation: 0.00\",\"0<br>Correlation: 0.00\",\"0<br>Correlation: 0.00\",\"0<br>Correlation: 0.00\",\"0<br>Correlation: 0.00\",\"0<br>Correlation: 0.00\",\"0<br>Correlation: 0.00\",\"0<br>Correlation: 0.00\",\"0<br>Correlation: 0.00\",\"0<br>Correlation: 0.00\",\"0<br>Correlation: 0.00\",\"0<br>Correlation: 0.00\"],[\"0<br>Correlation: 0.00\",\"0<br>Correlation: 0.00\",\"0<br>Correlation: 0.00\",\"0<br>Correlation: 0.00\",\"1<br>Correlation: 0.01\",\"0<br>Correlation: 0.00\",\"119<br>Correlation: 0.99\",\"0<br>Correlation: 0.00\",\"0<br>Correlation: 0.00\",\"0<br>Correlation: 0.00\",\"0<br>Correlation: 0.00\",\"0<br>Correlation: 0.00\",\"0<br>Correlation: 0.00\",\"0<br>Correlation: 0.00\",\"0<br>Correlation: 0.00\",\"0<br>Correlation: 0.00\",\"0<br>Correlation: 0.00\",\"0<br>Correlation: 0.00\",\"0<br>Correlation: 0.00\",\"0<br>Correlation: 0.00\",\"0<br>Correlation: 0.00\",\"0<br>Correlation: 0.00\",\"0<br>Correlation: 0.00\",\"0<br>Correlation: 0.00\",\"0<br>Correlation: 0.00\",\"0<br>Correlation: 0.00\",\"0<br>Correlation: 0.00\",\"0<br>Correlation: 0.00\"],[\"0<br>Correlation: 0.00\",\"0<br>Correlation: 0.00\",\"0<br>Correlation: 0.00\",\"1<br>Correlation: 0.01\",\"0<br>Correlation: 0.00\",\"0<br>Correlation: 0.00\",\"0<br>Correlation: 0.00\",\"1<br>Correlation: 0.01\",\"116<br>Correlation: 0.97\",\"0<br>Correlation: 0.00\",\"0<br>Correlation: 0.00\",\"0<br>Correlation: 0.00\",\"0<br>Correlation: 0.00\",\"0<br>Correlation: 0.00\",\"0<br>Correlation: 0.00\",\"0<br>Correlation: 0.00\",\"1<br>Correlation: 0.01\",\"0<br>Correlation: 0.00\",\"0<br>Correlation: 0.00\",\"0<br>Correlation: 0.00\",\"0<br>Correlation: 0.00\",\"0<br>Correlation: 0.00\",\"1<br>Correlation: 0.01\",\"0<br>Correlation: 0.00\",\"0<br>Correlation: 0.00\",\"0<br>Correlation: 0.00\",\"0<br>Correlation: 0.00\",\"0<br>Correlation: 0.00\"],[\"0<br>Correlation: 0.00\",\"0<br>Correlation: 0.00\",\"0<br>Correlation: 0.00\",\"5<br>Correlation: 0.04\",\"0<br>Correlation: 0.00\",\"0<br>Correlation: 0.00\",\"0<br>Correlation: 0.00\",\"0<br>Correlation: 0.00\",\"112<br>Correlation: 0.93\",\"0<br>Correlation: 0.00\",\"0<br>Correlation: 0.00\",\"0<br>Correlation: 0.00\",\"0<br>Correlation: 0.00\",\"0<br>Correlation: 0.00\",\"0<br>Correlation: 0.00\",\"0<br>Correlation: 0.00\",\"2<br>Correlation: 0.02\",\"0<br>Correlation: 0.00\",\"0<br>Correlation: 0.00\",\"1<br>Correlation: 0.01\",\"0<br>Correlation: 0.00\",\"0<br>Correlation: 0.00\",\"0<br>Correlation: 0.00\",\"0<br>Correlation: 0.00\",\"0<br>Correlation: 0.00\",\"0<br>Correlation: 0.00\",\"0<br>Correlation: 0.00\",\"0<br>Correlation: 0.00\"],[\"0<br>Correlation: 0.00\",\"0<br>Correlation: 0.00\",\"0<br>Correlation: 0.00\",\"0<br>Correlation: 0.00\",\"0<br>Correlation: 0.00\",\"0<br>Correlation: 0.00\",\"0<br>Correlation: 0.00\",\"0<br>Correlation: 0.00\",\"7<br>Correlation: 0.06\",\"0<br>Correlation: 0.00\",\"111<br>Correlation: 0.93\",\"0<br>Correlation: 0.00\",\"0<br>Correlation: 0.00\",\"0<br>Correlation: 0.00\",\"0<br>Correlation: 0.00\",\"0<br>Correlation: 0.00\",\"0<br>Correlation: 0.00\",\"0<br>Correlation: 0.00\",\"0<br>Correlation: 0.00\",\"1<br>Correlation: 0.01\",\"1<br>Correlation: 0.01\",\"0<br>Correlation: 0.00\",\"0<br>Correlation: 0.00\",\"0<br>Correlation: 0.00\",\"0<br>Correlation: 0.00\",\"0<br>Correlation: 0.00\",\"0<br>Correlation: 0.00\",\"0<br>Correlation: 0.00\"],[\"0<br>Correlation: 0.00\",\"0<br>Correlation: 0.00\",\"0<br>Correlation: 0.00\",\"1<br>Correlation: 0.01\",\"0<br>Correlation: 0.00\",\"0<br>Correlation: 0.00\",\"1<br>Correlation: 0.01\",\"0<br>Correlation: 0.00\",\"12<br>Correlation: 0.10\",\"0<br>Correlation: 0.00\",\"106<br>Correlation: 0.88\",\"0<br>Correlation: 0.00\",\"0<br>Correlation: 0.00\",\"0<br>Correlation: 0.00\",\"0<br>Correlation: 0.00\",\"0<br>Correlation: 0.00\",\"0<br>Correlation: 0.00\",\"0<br>Correlation: 0.00\",\"0<br>Correlation: 0.00\",\"0<br>Correlation: 0.00\",\"0<br>Correlation: 0.00\",\"0<br>Correlation: 0.00\",\"0<br>Correlation: 0.00\",\"0<br>Correlation: 0.00\",\"0<br>Correlation: 0.00\",\"0<br>Correlation: 0.00\",\"0<br>Correlation: 0.00\",\"0<br>Correlation: 0.00\"],[\"0<br>Correlation: 0.00\",\"0<br>Correlation: 0.00\",\"0<br>Correlation: 0.00\",\"0<br>Correlation: 0.00\",\"0<br>Correlation: 0.00\",\"0<br>Correlation: 0.00\",\"0<br>Correlation: 0.00\",\"0<br>Correlation: 0.00\",\"0<br>Correlation: 0.00\",\"0<br>Correlation: 0.00\",\"0<br>Correlation: 0.00\",\"37<br>Correlation: 0.31\",\"80<br>Correlation: 0.67\",\"0<br>Correlation: 0.00\",\"2<br>Correlation: 0.02\",\"0<br>Correlation: 0.00\",\"0<br>Correlation: 0.00\",\"0<br>Correlation: 0.00\",\"0<br>Correlation: 0.00\",\"0<br>Correlation: 0.00\",\"1<br>Correlation: 0.01\",\"0<br>Correlation: 0.00\",\"0<br>Correlation: 0.00\",\"0<br>Correlation: 0.00\",\"0<br>Correlation: 0.00\",\"0<br>Correlation: 0.00\",\"0<br>Correlation: 0.00\",\"0<br>Correlation: 0.00\"],[\"0<br>Correlation: 0.00\",\"0<br>Correlation: 0.00\",\"0<br>Correlation: 0.00\",\"0<br>Correlation: 0.00\",\"0<br>Correlation: 0.00\",\"0<br>Correlation: 0.00\",\"0<br>Correlation: 0.00\",\"0<br>Correlation: 0.00\",\"0<br>Correlation: 0.00\",\"0<br>Correlation: 0.00\",\"0<br>Correlation: 0.00\",\"0<br>Correlation: 0.00\",\"120<br>Correlation: 1.00\",\"0<br>Correlation: 0.00\",\"0<br>Correlation: 0.00\",\"0<br>Correlation: 0.00\",\"0<br>Correlation: 0.00\",\"0<br>Correlation: 0.00\",\"0<br>Correlation: 0.00\",\"0<br>Correlation: 0.00\",\"0<br>Correlation: 0.00\",\"0<br>Correlation: 0.00\",\"0<br>Correlation: 0.00\",\"0<br>Correlation: 0.00\",\"0<br>Correlation: 0.00\",\"0<br>Correlation: 0.00\",\"0<br>Correlation: 0.00\",\"0<br>Correlation: 0.00\"],[\"0<br>Correlation: 0.00\",\"0<br>Correlation: 0.00\",\"0<br>Correlation: 0.00\",\"0<br>Correlation: 0.00\",\"0<br>Correlation: 0.00\",\"0<br>Correlation: 0.00\",\"0<br>Correlation: 0.00\",\"0<br>Correlation: 0.00\",\"0<br>Correlation: 0.00\",\"0<br>Correlation: 0.00\",\"0<br>Correlation: 0.00\",\"0<br>Correlation: 0.00\",\"0<br>Correlation: 0.00\",\"24<br>Correlation: 0.20\",\"96<br>Correlation: 0.80\",\"0<br>Correlation: 0.00\",\"0<br>Correlation: 0.00\",\"0<br>Correlation: 0.00\",\"0<br>Correlation: 0.00\",\"0<br>Correlation: 0.00\",\"0<br>Correlation: 0.00\",\"0<br>Correlation: 0.00\",\"0<br>Correlation: 0.00\",\"0<br>Correlation: 0.00\",\"0<br>Correlation: 0.00\",\"0<br>Correlation: 0.00\",\"0<br>Correlation: 0.00\",\"0<br>Correlation: 0.00\"],[\"0<br>Correlation: 0.00\",\"0<br>Correlation: 0.00\",\"0<br>Correlation: 0.00\",\"0<br>Correlation: 0.00\",\"0<br>Correlation: 0.00\",\"0<br>Correlation: 0.00\",\"0<br>Correlation: 0.00\",\"0<br>Correlation: 0.00\",\"0<br>Correlation: 0.00\",\"0<br>Correlation: 0.00\",\"0<br>Correlation: 0.00\",\"0<br>Correlation: 0.00\",\"3<br>Correlation: 0.03\",\"0<br>Correlation: 0.00\",\"117<br>Correlation: 0.97\",\"0<br>Correlation: 0.00\",\"0<br>Correlation: 0.00\",\"0<br>Correlation: 0.00\",\"0<br>Correlation: 0.00\",\"0<br>Correlation: 0.00\",\"0<br>Correlation: 0.00\",\"0<br>Correlation: 0.00\",\"0<br>Correlation: 0.00\",\"0<br>Correlation: 0.00\",\"0<br>Correlation: 0.00\",\"0<br>Correlation: 0.00\",\"0<br>Correlation: 0.00\",\"0<br>Correlation: 0.00\"],[\"0<br>Correlation: 0.00\",\"0<br>Correlation: 0.00\",\"0<br>Correlation: 0.00\",\"0<br>Correlation: 0.00\",\"0<br>Correlation: 0.00\",\"0<br>Correlation: 0.00\",\"0<br>Correlation: 0.00\",\"0<br>Correlation: 0.00\",\"0<br>Correlation: 0.00\",\"0<br>Correlation: 0.00\",\"0<br>Correlation: 0.00\",\"0<br>Correlation: 0.00\",\"0<br>Correlation: 0.00\",\"0<br>Correlation: 0.00\",\"0<br>Correlation: 0.00\",\"54<br>Correlation: 0.45\",\"66<br>Correlation: 0.55\",\"0<br>Correlation: 0.00\",\"0<br>Correlation: 0.00\",\"0<br>Correlation: 0.00\",\"0<br>Correlation: 0.00\",\"0<br>Correlation: 0.00\",\"0<br>Correlation: 0.00\",\"0<br>Correlation: 0.00\",\"0<br>Correlation: 0.00\",\"0<br>Correlation: 0.00\",\"0<br>Correlation: 0.00\",\"0<br>Correlation: 0.00\"],[\"0<br>Correlation: 0.00\",\"0<br>Correlation: 0.00\",\"0<br>Correlation: 0.00\",\"0<br>Correlation: 0.00\",\"0<br>Correlation: 0.00\",\"0<br>Correlation: 0.00\",\"0<br>Correlation: 0.00\",\"0<br>Correlation: 0.00\",\"0<br>Correlation: 0.00\",\"0<br>Correlation: 0.00\",\"0<br>Correlation: 0.00\",\"0<br>Correlation: 0.00\",\"0<br>Correlation: 0.00\",\"0<br>Correlation: 0.00\",\"0<br>Correlation: 0.00\",\"0<br>Correlation: 0.00\",\"120<br>Correlation: 1.00\",\"0<br>Correlation: 0.00\",\"0<br>Correlation: 0.00\",\"0<br>Correlation: 0.00\",\"0<br>Correlation: 0.00\",\"0<br>Correlation: 0.00\",\"0<br>Correlation: 0.00\",\"0<br>Correlation: 0.00\",\"0<br>Correlation: 0.00\",\"0<br>Correlation: 0.00\",\"0<br>Correlation: 0.00\",\"0<br>Correlation: 0.00\"],[\"0<br>Correlation: 0.00\",\"0<br>Correlation: 0.00\",\"0<br>Correlation: 0.00\",\"1<br>Correlation: 0.01\",\"0<br>Correlation: 0.00\",\"0<br>Correlation: 0.00\",\"2<br>Correlation: 0.02\",\"0<br>Correlation: 0.00\",\"0<br>Correlation: 0.00\",\"0<br>Correlation: 0.00\",\"0<br>Correlation: 0.00\",\"0<br>Correlation: 0.00\",\"0<br>Correlation: 0.00\",\"0<br>Correlation: 0.00\",\"0<br>Correlation: 0.00\",\"0<br>Correlation: 0.00\",\"0<br>Correlation: 0.00\",\"35<br>Correlation: 0.29\",\"82<br>Correlation: 0.68\",\"0<br>Correlation: 0.00\",\"0<br>Correlation: 0.00\",\"0<br>Correlation: 0.00\",\"0<br>Correlation: 0.00\",\"0<br>Correlation: 0.00\",\"0<br>Correlation: 0.00\",\"0<br>Correlation: 0.00\",\"0<br>Correlation: 0.00\",\"0<br>Correlation: 0.00\"],[\"0<br>Correlation: 0.00\",\"0<br>Correlation: 0.00\",\"0<br>Correlation: 0.00\",\"1<br>Correlation: 0.01\",\"0<br>Correlation: 0.00\",\"0<br>Correlation: 0.00\",\"1<br>Correlation: 0.01\",\"0<br>Correlation: 0.00\",\"0<br>Correlation: 0.00\",\"0<br>Correlation: 0.00\",\"0<br>Correlation: 0.00\",\"0<br>Correlation: 0.00\",\"0<br>Correlation: 0.00\",\"0<br>Correlation: 0.00\",\"0<br>Correlation: 0.00\",\"0<br>Correlation: 0.00\",\"0<br>Correlation: 0.00\",\"0<br>Correlation: 0.00\",\"118<br>Correlation: 0.98\",\"0<br>Correlation: 0.00\",\"0<br>Correlation: 0.00\",\"0<br>Correlation: 0.00\",\"0<br>Correlation: 0.00\",\"0<br>Correlation: 0.00\",\"0<br>Correlation: 0.00\",\"0<br>Correlation: 0.00\",\"0<br>Correlation: 0.00\",\"0<br>Correlation: 0.00\"],[\"0<br>Correlation: 0.00\",\"0<br>Correlation: 0.00\",\"0<br>Correlation: 0.00\",\"0<br>Correlation: 0.00\",\"0<br>Correlation: 0.00\",\"0<br>Correlation: 0.00\",\"0<br>Correlation: 0.00\",\"0<br>Correlation: 0.00\",\"0<br>Correlation: 0.00\",\"0<br>Correlation: 0.00\",\"0<br>Correlation: 0.00\",\"0<br>Correlation: 0.00\",\"0<br>Correlation: 0.00\",\"0<br>Correlation: 0.00\",\"1<br>Correlation: 0.01\",\"0<br>Correlation: 0.00\",\"0<br>Correlation: 0.00\",\"0<br>Correlation: 0.00\",\"0<br>Correlation: 0.00\",\"86<br>Correlation: 0.72\",\"33<br>Correlation: 0.28\",\"0<br>Correlation: 0.00\",\"0<br>Correlation: 0.00\",\"0<br>Correlation: 0.00\",\"0<br>Correlation: 0.00\",\"0<br>Correlation: 0.00\",\"0<br>Correlation: 0.00\",\"0<br>Correlation: 0.00\"],[\"0<br>Correlation: 0.00\",\"0<br>Correlation: 0.00\",\"0<br>Correlation: 0.00\",\"1<br>Correlation: 0.01\",\"0<br>Correlation: 0.00\",\"0<br>Correlation: 0.00\",\"0<br>Correlation: 0.00\",\"0<br>Correlation: 0.00\",\"0<br>Correlation: 0.00\",\"0<br>Correlation: 0.00\",\"0<br>Correlation: 0.00\",\"0<br>Correlation: 0.00\",\"0<br>Correlation: 0.00\",\"0<br>Correlation: 0.00\",\"1<br>Correlation: 0.01\",\"0<br>Correlation: 0.00\",\"0<br>Correlation: 0.00\",\"0<br>Correlation: 0.00\",\"0<br>Correlation: 0.00\",\"0<br>Correlation: 0.00\",\"118<br>Correlation: 0.98\",\"0<br>Correlation: 0.00\",\"0<br>Correlation: 0.00\",\"0<br>Correlation: 0.00\",\"0<br>Correlation: 0.00\",\"0<br>Correlation: 0.00\",\"0<br>Correlation: 0.00\",\"0<br>Correlation: 0.00\"],[\"0<br>Correlation: 0.00\",\"0<br>Correlation: 0.00\",\"0<br>Correlation: 0.00\",\"0<br>Correlation: 0.00\",\"0<br>Correlation: 0.00\",\"0<br>Correlation: 0.00\",\"0<br>Correlation: 0.00\",\"0<br>Correlation: 0.00\",\"0<br>Correlation: 0.00\",\"0<br>Correlation: 0.00\",\"0<br>Correlation: 0.00\",\"0<br>Correlation: 0.00\",\"0<br>Correlation: 0.00\",\"0<br>Correlation: 0.00\",\"0<br>Correlation: 0.00\",\"0<br>Correlation: 0.00\",\"0<br>Correlation: 0.00\",\"0<br>Correlation: 0.00\",\"0<br>Correlation: 0.00\",\"1<br>Correlation: 0.01\",\"1<br>Correlation: 0.01\",\"117<br>Correlation: 0.97\",\"0<br>Correlation: 0.00\",\"0<br>Correlation: 0.00\",\"1<br>Correlation: 0.01\",\"0<br>Correlation: 0.00\",\"0<br>Correlation: 0.00\",\"0<br>Correlation: 0.00\"],[\"0<br>Correlation: 0.00\",\"0<br>Correlation: 0.00\",\"0<br>Correlation: 0.00\",\"2<br>Correlation: 0.02\",\"0<br>Correlation: 0.00\",\"0<br>Correlation: 0.00\",\"0<br>Correlation: 0.00\",\"0<br>Correlation: 0.00\",\"0<br>Correlation: 0.00\",\"0<br>Correlation: 0.00\",\"0<br>Correlation: 0.00\",\"0<br>Correlation: 0.00\",\"3<br>Correlation: 0.03\",\"0<br>Correlation: 0.00\",\"0<br>Correlation: 0.00\",\"0<br>Correlation: 0.00\",\"0<br>Correlation: 0.00\",\"0<br>Correlation: 0.00\",\"0<br>Correlation: 0.00\",\"0<br>Correlation: 0.00\",\"0<br>Correlation: 0.00\",\"2<br>Correlation: 0.02\",\"103<br>Correlation: 0.86\",\"0<br>Correlation: 0.00\",\"10<br>Correlation: 0.08\",\"0<br>Correlation: 0.00\",\"0<br>Correlation: 0.00\",\"0<br>Correlation: 0.00\"],[\"0<br>Correlation: 0.00\",\"0<br>Correlation: 0.00\",\"0<br>Correlation: 0.00\",\"0<br>Correlation: 0.00\",\"6<br>Correlation: 0.05\",\"0<br>Correlation: 0.00\",\"18<br>Correlation: 0.15\",\"0<br>Correlation: 0.00\",\"0<br>Correlation: 0.00\",\"0<br>Correlation: 0.00\",\"1<br>Correlation: 0.01\",\"0<br>Correlation: 0.00\",\"0<br>Correlation: 0.00\",\"0<br>Correlation: 0.00\",\"9<br>Correlation: 0.07\",\"0<br>Correlation: 0.00\",\"1<br>Correlation: 0.01\",\"0<br>Correlation: 0.00\",\"1<br>Correlation: 0.01\",\"11<br>Correlation: 0.09\",\"1<br>Correlation: 0.01\",\"0<br>Correlation: 0.00\",\"0<br>Correlation: 0.00\",\"72<br>Correlation: 0.60\",\"0<br>Correlation: 0.00\",\"0<br>Correlation: 0.00\",\"0<br>Correlation: 0.00\",\"0<br>Correlation: 0.00\"],[\"0<br>Correlation: 0.00\",\"0<br>Correlation: 0.00\",\"2<br>Correlation: 0.02\",\"29<br>Correlation: 0.24\",\"0<br>Correlation: 0.00\",\"0<br>Correlation: 0.00\",\"0<br>Correlation: 0.00\",\"0<br>Correlation: 0.00\",\"0<br>Correlation: 0.00\",\"0<br>Correlation: 0.00\",\"0<br>Correlation: 0.00\",\"0<br>Correlation: 0.00\",\"2<br>Correlation: 0.02\",\"0<br>Correlation: 0.00\",\"0<br>Correlation: 0.00\",\"0<br>Correlation: 0.00\",\"0<br>Correlation: 0.00\",\"0<br>Correlation: 0.00\",\"0<br>Correlation: 0.00\",\"1<br>Correlation: 0.01\",\"0<br>Correlation: 0.00\",\"2<br>Correlation: 0.02\",\"0<br>Correlation: 0.00\",\"0<br>Correlation: 0.00\",\"84<br>Correlation: 0.70\",\"0<br>Correlation: 0.00\",\"0<br>Correlation: 0.00\",\"0<br>Correlation: 0.00\"],[\"0<br>Correlation: 0.00\",\"0<br>Correlation: 0.00\",\"0<br>Correlation: 0.00\",\"0<br>Correlation: 0.00\",\"0<br>Correlation: 0.00\",\"0<br>Correlation: 0.00\",\"0<br>Correlation: 0.00\",\"0<br>Correlation: 0.00\",\"0<br>Correlation: 0.00\",\"0<br>Correlation: 0.00\",\"0<br>Correlation: 0.00\",\"0<br>Correlation: 0.00\",\"0<br>Correlation: 0.00\",\"0<br>Correlation: 0.00\",\"0<br>Correlation: 0.00\",\"2<br>Correlation: 0.02\",\"6<br>Correlation: 0.05\",\"0<br>Correlation: 0.00\",\"0<br>Correlation: 0.00\",\"3<br>Correlation: 0.03\",\"1<br>Correlation: 0.01\",\"0<br>Correlation: 0.00\",\"0<br>Correlation: 0.00\",\"0<br>Correlation: 0.00\",\"0<br>Correlation: 0.00\",\"108<br>Correlation: 0.90\",\"0<br>Correlation: 0.00\",\"0<br>Correlation: 0.00\"],[\"0<br>Correlation: 0.00\",\"0<br>Correlation: 0.00\",\"0<br>Correlation: 0.00\",\"0<br>Correlation: 0.00\",\"0<br>Correlation: 0.00\",\"0<br>Correlation: 0.00\",\"0<br>Correlation: 0.00\",\"0<br>Correlation: 0.00\",\"2<br>Correlation: 0.02\",\"0<br>Correlation: 0.00\",\"0<br>Correlation: 0.00\",\"0<br>Correlation: 0.00\",\"0<br>Correlation: 0.00\",\"0<br>Correlation: 0.00\",\"0<br>Correlation: 0.00\",\"0<br>Correlation: 0.00\",\"1<br>Correlation: 0.01\",\"0<br>Correlation: 0.00\",\"0<br>Correlation: 0.00\",\"58<br>Correlation: 0.48\",\"1<br>Correlation: 0.01\",\"0<br>Correlation: 0.00\",\"0<br>Correlation: 0.00\",\"0<br>Correlation: 0.00\",\"0<br>Correlation: 0.00\",\"4<br>Correlation: 0.03\",\"54<br>Correlation: 0.45\",\"0<br>Correlation: 0.00\"],[\"0<br>Correlation: 0.00\",\"0<br>Correlation: 0.00\",\"0<br>Correlation: 0.00\",\"0<br>Correlation: 0.00\",\"0<br>Correlation: 0.00\",\"0<br>Correlation: 0.00\",\"0<br>Correlation: 0.00\",\"0<br>Correlation: 0.00\",\"0<br>Correlation: 0.00\",\"0<br>Correlation: 0.00\",\"0<br>Correlation: 0.00\",\"0<br>Correlation: 0.00\",\"1<br>Correlation: 0.01\",\"0<br>Correlation: 0.00\",\"0<br>Correlation: 0.00\",\"0<br>Correlation: 0.00\",\"0<br>Correlation: 0.00\",\"1<br>Correlation: 0.01\",\"1<br>Correlation: 0.01\",\"0<br>Correlation: 0.00\",\"9<br>Correlation: 0.07\",\"0<br>Correlation: 0.00\",\"0<br>Correlation: 0.00\",\"0<br>Correlation: 0.00\",\"0<br>Correlation: 0.00\",\"0<br>Correlation: 0.00\",\"0<br>Correlation: 0.00\",\"108<br>Correlation: 0.90\"]],\"x\":[\"alef\",\"beh\",\"teh\",\"theh\",\"jeem\",\"hah\",\"khah\",\"dal\",\"thal\",\"reh\",\"zain\",\"seen\",\"sheen\",\"sad\",\"dad\",\"tah\",\"zah\",\"ain\",\"ghain\",\"feh\",\"qaf\",\"kaf\",\"lam\",\"meem\",\"noon\",\"heh\",\"waw\",\"yeh\"],\"y\":[\"alef\",\"beh\",\"teh\",\"theh\",\"jeem\",\"hah\",\"khah\",\"dal\",\"thal\",\"reh\",\"zain\",\"seen\",\"sheen\",\"sad\",\"dad\",\"tah\",\"zah\",\"ain\",\"ghain\",\"feh\",\"qaf\",\"kaf\",\"lam\",\"meem\",\"noon\",\"heh\",\"waw\",\"yeh\"],\"z\":[[118,0,0,1,0,0,0,0,0,0,0,0,0,0,0,0,0,0,0,0,0,0,0,0,0,0,0,0],[0,108,3,1,0,0,1,0,0,0,0,0,1,0,0,0,0,0,0,0,0,0,0,0,0,0,0,6],[0,0,30,90,0,0,0,0,0,0,0,0,0,0,0,0,0,0,0,0,0,0,0,0,0,0,0,0],[0,0,0,120,0,0,0,0,0,0,0,0,0,0,0,0,0,0,0,0,0,0,0,0,0,0,0,0],[0,0,0,0,114,0,6,0,0,0,0,0,0,0,0,0,0,0,0,0,0,0,0,0,0,0,0,0],[0,0,0,1,30,5,84,0,0,0,0,0,0,0,0,0,0,0,0,0,0,0,0,0,0,0,0,0],[0,0,0,0,1,0,119,0,0,0,0,0,0,0,0,0,0,0,0,0,0,0,0,0,0,0,0,0],[0,0,0,1,0,0,0,1,116,0,0,0,0,0,0,0,1,0,0,0,0,0,1,0,0,0,0,0],[0,0,0,5,0,0,0,0,112,0,0,0,0,0,0,0,2,0,0,1,0,0,0,0,0,0,0,0],[0,0,0,0,0,0,0,0,7,0,111,0,0,0,0,0,0,0,0,1,1,0,0,0,0,0,0,0],[0,0,0,1,0,0,1,0,12,0,106,0,0,0,0,0,0,0,0,0,0,0,0,0,0,0,0,0],[0,0,0,0,0,0,0,0,0,0,0,37,80,0,2,0,0,0,0,0,1,0,0,0,0,0,0,0],[0,0,0,0,0,0,0,0,0,0,0,0,120,0,0,0,0,0,0,0,0,0,0,0,0,0,0,0],[0,0,0,0,0,0,0,0,0,0,0,0,0,24,96,0,0,0,0,0,0,0,0,0,0,0,0,0],[0,0,0,0,0,0,0,0,0,0,0,0,3,0,117,0,0,0,0,0,0,0,0,0,0,0,0,0],[0,0,0,0,0,0,0,0,0,0,0,0,0,0,0,54,66,0,0,0,0,0,0,0,0,0,0,0],[0,0,0,0,0,0,0,0,0,0,0,0,0,0,0,0,120,0,0,0,0,0,0,0,0,0,0,0],[0,0,0,1,0,0,2,0,0,0,0,0,0,0,0,0,0,35,82,0,0,0,0,0,0,0,0,0],[0,0,0,1,0,0,1,0,0,0,0,0,0,0,0,0,0,0,118,0,0,0,0,0,0,0,0,0],[0,0,0,0,0,0,0,0,0,0,0,0,0,0,1,0,0,0,0,86,33,0,0,0,0,0,0,0],[0,0,0,1,0,0,0,0,0,0,0,0,0,0,1,0,0,0,0,0,118,0,0,0,0,0,0,0],[0,0,0,0,0,0,0,0,0,0,0,0,0,0,0,0,0,0,0,1,1,117,0,0,1,0,0,0],[0,0,0,2,0,0,0,0,0,0,0,0,3,0,0,0,0,0,0,0,0,2,103,0,10,0,0,0],[0,0,0,0,6,0,18,0,0,0,1,0,0,0,9,0,1,0,1,11,1,0,0,72,0,0,0,0],[0,0,2,29,0,0,0,0,0,0,0,0,2,0,0,0,0,0,0,1,0,2,0,0,84,0,0,0],[0,0,0,0,0,0,0,0,0,0,0,0,0,0,0,2,6,0,0,3,1,0,0,0,0,108,0,0],[0,0,0,0,0,0,0,0,2,0,0,0,0,0,0,0,1,0,0,58,1,0,0,0,0,4,54,0],[0,0,0,0,0,0,0,0,0,0,0,0,1,0,0,0,0,1,1,0,9,0,0,0,0,0,0,108]],\"type\":\"heatmap\",\"hovertemplate\":\"%{text}<extra></extra>\"}],                        {\"template\":{\"data\":{\"barpolar\":[{\"marker\":{\"line\":{\"color\":\"rgb(17,17,17)\",\"width\":0.5},\"pattern\":{\"fillmode\":\"overlay\",\"size\":10,\"solidity\":0.2}},\"type\":\"barpolar\"}],\"bar\":[{\"error_x\":{\"color\":\"#f2f5fa\"},\"error_y\":{\"color\":\"#f2f5fa\"},\"marker\":{\"line\":{\"color\":\"rgb(17,17,17)\",\"width\":0.5},\"pattern\":{\"fillmode\":\"overlay\",\"size\":10,\"solidity\":0.2}},\"type\":\"bar\"}],\"carpet\":[{\"aaxis\":{\"endlinecolor\":\"#A2B1C6\",\"gridcolor\":\"#506784\",\"linecolor\":\"#506784\",\"minorgridcolor\":\"#506784\",\"startlinecolor\":\"#A2B1C6\"},\"baxis\":{\"endlinecolor\":\"#A2B1C6\",\"gridcolor\":\"#506784\",\"linecolor\":\"#506784\",\"minorgridcolor\":\"#506784\",\"startlinecolor\":\"#A2B1C6\"},\"type\":\"carpet\"}],\"choropleth\":[{\"colorbar\":{\"outlinewidth\":0,\"ticks\":\"\"},\"type\":\"choropleth\"}],\"contourcarpet\":[{\"colorbar\":{\"outlinewidth\":0,\"ticks\":\"\"},\"type\":\"contourcarpet\"}],\"contour\":[{\"colorbar\":{\"outlinewidth\":0,\"ticks\":\"\"},\"colorscale\":[[0.0,\"#0d0887\"],[0.1111111111111111,\"#46039f\"],[0.2222222222222222,\"#7201a8\"],[0.3333333333333333,\"#9c179e\"],[0.4444444444444444,\"#bd3786\"],[0.5555555555555556,\"#d8576b\"],[0.6666666666666666,\"#ed7953\"],[0.7777777777777778,\"#fb9f3a\"],[0.8888888888888888,\"#fdca26\"],[1.0,\"#f0f921\"]],\"type\":\"contour\"}],\"heatmapgl\":[{\"colorbar\":{\"outlinewidth\":0,\"ticks\":\"\"},\"colorscale\":[[0.0,\"#0d0887\"],[0.1111111111111111,\"#46039f\"],[0.2222222222222222,\"#7201a8\"],[0.3333333333333333,\"#9c179e\"],[0.4444444444444444,\"#bd3786\"],[0.5555555555555556,\"#d8576b\"],[0.6666666666666666,\"#ed7953\"],[0.7777777777777778,\"#fb9f3a\"],[0.8888888888888888,\"#fdca26\"],[1.0,\"#f0f921\"]],\"type\":\"heatmapgl\"}],\"heatmap\":[{\"colorbar\":{\"outlinewidth\":0,\"ticks\":\"\"},\"colorscale\":[[0.0,\"#0d0887\"],[0.1111111111111111,\"#46039f\"],[0.2222222222222222,\"#7201a8\"],[0.3333333333333333,\"#9c179e\"],[0.4444444444444444,\"#bd3786\"],[0.5555555555555556,\"#d8576b\"],[0.6666666666666666,\"#ed7953\"],[0.7777777777777778,\"#fb9f3a\"],[0.8888888888888888,\"#fdca26\"],[1.0,\"#f0f921\"]],\"type\":\"heatmap\"}],\"histogram2dcontour\":[{\"colorbar\":{\"outlinewidth\":0,\"ticks\":\"\"},\"colorscale\":[[0.0,\"#0d0887\"],[0.1111111111111111,\"#46039f\"],[0.2222222222222222,\"#7201a8\"],[0.3333333333333333,\"#9c179e\"],[0.4444444444444444,\"#bd3786\"],[0.5555555555555556,\"#d8576b\"],[0.6666666666666666,\"#ed7953\"],[0.7777777777777778,\"#fb9f3a\"],[0.8888888888888888,\"#fdca26\"],[1.0,\"#f0f921\"]],\"type\":\"histogram2dcontour\"}],\"histogram2d\":[{\"colorbar\":{\"outlinewidth\":0,\"ticks\":\"\"},\"colorscale\":[[0.0,\"#0d0887\"],[0.1111111111111111,\"#46039f\"],[0.2222222222222222,\"#7201a8\"],[0.3333333333333333,\"#9c179e\"],[0.4444444444444444,\"#bd3786\"],[0.5555555555555556,\"#d8576b\"],[0.6666666666666666,\"#ed7953\"],[0.7777777777777778,\"#fb9f3a\"],[0.8888888888888888,\"#fdca26\"],[1.0,\"#f0f921\"]],\"type\":\"histogram2d\"}],\"histogram\":[{\"marker\":{\"pattern\":{\"fillmode\":\"overlay\",\"size\":10,\"solidity\":0.2}},\"type\":\"histogram\"}],\"mesh3d\":[{\"colorbar\":{\"outlinewidth\":0,\"ticks\":\"\"},\"type\":\"mesh3d\"}],\"parcoords\":[{\"line\":{\"colorbar\":{\"outlinewidth\":0,\"ticks\":\"\"}},\"type\":\"parcoords\"}],\"pie\":[{\"automargin\":true,\"type\":\"pie\"}],\"scatter3d\":[{\"line\":{\"colorbar\":{\"outlinewidth\":0,\"ticks\":\"\"}},\"marker\":{\"colorbar\":{\"outlinewidth\":0,\"ticks\":\"\"}},\"type\":\"scatter3d\"}],\"scattercarpet\":[{\"marker\":{\"colorbar\":{\"outlinewidth\":0,\"ticks\":\"\"}},\"type\":\"scattercarpet\"}],\"scattergeo\":[{\"marker\":{\"colorbar\":{\"outlinewidth\":0,\"ticks\":\"\"}},\"type\":\"scattergeo\"}],\"scattergl\":[{\"marker\":{\"line\":{\"color\":\"#283442\"}},\"type\":\"scattergl\"}],\"scattermapbox\":[{\"marker\":{\"colorbar\":{\"outlinewidth\":0,\"ticks\":\"\"}},\"type\":\"scattermapbox\"}],\"scatterpolargl\":[{\"marker\":{\"colorbar\":{\"outlinewidth\":0,\"ticks\":\"\"}},\"type\":\"scatterpolargl\"}],\"scatterpolar\":[{\"marker\":{\"colorbar\":{\"outlinewidth\":0,\"ticks\":\"\"}},\"type\":\"scatterpolar\"}],\"scatter\":[{\"marker\":{\"line\":{\"color\":\"#283442\"}},\"type\":\"scatter\"}],\"scatterternary\":[{\"marker\":{\"colorbar\":{\"outlinewidth\":0,\"ticks\":\"\"}},\"type\":\"scatterternary\"}],\"surface\":[{\"colorbar\":{\"outlinewidth\":0,\"ticks\":\"\"},\"colorscale\":[[0.0,\"#0d0887\"],[0.1111111111111111,\"#46039f\"],[0.2222222222222222,\"#7201a8\"],[0.3333333333333333,\"#9c179e\"],[0.4444444444444444,\"#bd3786\"],[0.5555555555555556,\"#d8576b\"],[0.6666666666666666,\"#ed7953\"],[0.7777777777777778,\"#fb9f3a\"],[0.8888888888888888,\"#fdca26\"],[1.0,\"#f0f921\"]],\"type\":\"surface\"}],\"table\":[{\"cells\":{\"fill\":{\"color\":\"#506784\"},\"line\":{\"color\":\"rgb(17,17,17)\"}},\"header\":{\"fill\":{\"color\":\"#2a3f5f\"},\"line\":{\"color\":\"rgb(17,17,17)\"}},\"type\":\"table\"}]},\"layout\":{\"annotationdefaults\":{\"arrowcolor\":\"#f2f5fa\",\"arrowhead\":0,\"arrowwidth\":1},\"autotypenumbers\":\"strict\",\"coloraxis\":{\"colorbar\":{\"outlinewidth\":0,\"ticks\":\"\"}},\"colorscale\":{\"diverging\":[[0,\"#8e0152\"],[0.1,\"#c51b7d\"],[0.2,\"#de77ae\"],[0.3,\"#f1b6da\"],[0.4,\"#fde0ef\"],[0.5,\"#f7f7f7\"],[0.6,\"#e6f5d0\"],[0.7,\"#b8e186\"],[0.8,\"#7fbc41\"],[0.9,\"#4d9221\"],[1,\"#276419\"]],\"sequential\":[[0.0,\"#0d0887\"],[0.1111111111111111,\"#46039f\"],[0.2222222222222222,\"#7201a8\"],[0.3333333333333333,\"#9c179e\"],[0.4444444444444444,\"#bd3786\"],[0.5555555555555556,\"#d8576b\"],[0.6666666666666666,\"#ed7953\"],[0.7777777777777778,\"#fb9f3a\"],[0.8888888888888888,\"#fdca26\"],[1.0,\"#f0f921\"]],\"sequentialminus\":[[0.0,\"#0d0887\"],[0.1111111111111111,\"#46039f\"],[0.2222222222222222,\"#7201a8\"],[0.3333333333333333,\"#9c179e\"],[0.4444444444444444,\"#bd3786\"],[0.5555555555555556,\"#d8576b\"],[0.6666666666666666,\"#ed7953\"],[0.7777777777777778,\"#fb9f3a\"],[0.8888888888888888,\"#fdca26\"],[1.0,\"#f0f921\"]]},\"colorway\":[\"#636efa\",\"#EF553B\",\"#00cc96\",\"#ab63fa\",\"#FFA15A\",\"#19d3f3\",\"#FF6692\",\"#B6E880\",\"#FF97FF\",\"#FECB52\"],\"font\":{\"color\":\"#f2f5fa\"},\"geo\":{\"bgcolor\":\"rgb(17,17,17)\",\"lakecolor\":\"rgb(17,17,17)\",\"landcolor\":\"rgb(17,17,17)\",\"showlakes\":true,\"showland\":true,\"subunitcolor\":\"#506784\"},\"hoverlabel\":{\"align\":\"left\"},\"hovermode\":\"closest\",\"mapbox\":{\"style\":\"dark\"},\"paper_bgcolor\":\"rgb(17,17,17)\",\"plot_bgcolor\":\"rgb(17,17,17)\",\"polar\":{\"angularaxis\":{\"gridcolor\":\"#506784\",\"linecolor\":\"#506784\",\"ticks\":\"\"},\"bgcolor\":\"rgb(17,17,17)\",\"radialaxis\":{\"gridcolor\":\"#506784\",\"linecolor\":\"#506784\",\"ticks\":\"\"}},\"scene\":{\"xaxis\":{\"backgroundcolor\":\"rgb(17,17,17)\",\"gridcolor\":\"#506784\",\"gridwidth\":2,\"linecolor\":\"#506784\",\"showbackground\":true,\"ticks\":\"\",\"zerolinecolor\":\"#C8D4E3\"},\"yaxis\":{\"backgroundcolor\":\"rgb(17,17,17)\",\"gridcolor\":\"#506784\",\"gridwidth\":2,\"linecolor\":\"#506784\",\"showbackground\":true,\"ticks\":\"\",\"zerolinecolor\":\"#C8D4E3\"},\"zaxis\":{\"backgroundcolor\":\"rgb(17,17,17)\",\"gridcolor\":\"#506784\",\"gridwidth\":2,\"linecolor\":\"#506784\",\"showbackground\":true,\"ticks\":\"\",\"zerolinecolor\":\"#C8D4E3\"}},\"shapedefaults\":{\"line\":{\"color\":\"#f2f5fa\"}},\"sliderdefaults\":{\"bgcolor\":\"#C8D4E3\",\"bordercolor\":\"rgb(17,17,17)\",\"borderwidth\":1,\"tickwidth\":0},\"ternary\":{\"aaxis\":{\"gridcolor\":\"#506784\",\"linecolor\":\"#506784\",\"ticks\":\"\"},\"baxis\":{\"gridcolor\":\"#506784\",\"linecolor\":\"#506784\",\"ticks\":\"\"},\"bgcolor\":\"rgb(17,17,17)\",\"caxis\":{\"gridcolor\":\"#506784\",\"linecolor\":\"#506784\",\"ticks\":\"\"}},\"title\":{\"x\":0.05},\"updatemenudefaults\":{\"bgcolor\":\"#506784\",\"borderwidth\":0},\"xaxis\":{\"automargin\":true,\"gridcolor\":\"#283442\",\"linecolor\":\"#506784\",\"ticks\":\"\",\"title\":{\"standoff\":15},\"zerolinecolor\":\"#283442\",\"zerolinewidth\":2},\"yaxis\":{\"automargin\":true,\"gridcolor\":\"#283442\",\"linecolor\":\"#506784\",\"ticks\":\"\",\"title\":{\"standoff\":15},\"zerolinecolor\":\"#283442\",\"zerolinewidth\":2}}},\"xaxis\":{\"title\":{\"text\":\"Predicted Label\"},\"showgrid\":true,\"gridwidth\":1,\"gridcolor\":\"white\"},\"yaxis\":{\"title\":{\"text\":\"True Label\"},\"showgrid\":true,\"gridwidth\":1,\"gridcolor\":\"white\"},\"title\":{\"text\":\"Confusion Matrix\"},\"width\":800,\"height\":600},                        {\"responsive\": true}                    ).then(function(){\n",
       "                            \n",
       "var gd = document.getElementById('7b2fdc7f-afa7-4061-b118-e708366b5fb6');\n",
       "var x = new MutationObserver(function (mutations, observer) {{\n",
       "        var display = window.getComputedStyle(gd).display;\n",
       "        if (!display || display === 'none') {{\n",
       "            console.log([gd, 'removed!']);\n",
       "            Plotly.purge(gd);\n",
       "            observer.disconnect();\n",
       "        }}\n",
       "}});\n",
       "\n",
       "// Listen for the removal of the full notebook cells\n",
       "var notebookContainer = gd.closest('#notebook-container');\n",
       "if (notebookContainer) {{\n",
       "    x.observe(notebookContainer, {childList: true});\n",
       "}}\n",
       "\n",
       "// Listen for the clearing of the current output cell\n",
       "var outputEl = gd.closest('.output');\n",
       "if (outputEl) {{\n",
       "    x.observe(outputEl, {childList: true});\n",
       "}}\n",
       "\n",
       "                        })                };                });            </script>        </div>"
      ]
     },
     "metadata": {},
     "output_type": "display_data"
    }
   ],
   "source": [
    "# Create confusion matrix heatmap\n",
    "y_preds = model.predict(x_test)\n",
    "y_pred_classes = np.argmax(y_preds, axis=1)\n",
    "y_true = np.argmax(y_test, axis=1)\n",
    "cm = confusion_matrix(y_true, y_pred_classes)\n",
    "\n",
    "\n",
    "# Create the text list for correlation numbers\n",
    "text = [[f\"{cm[i, j]}<br>Correlation: {cm[i, j] / sum(cm[i, :]):.2f}\" for j in range(len(cm[i]))] for i in range(len(cm))]\n",
    "\n",
    "heatmap = go.Heatmap(\n",
    "    z=cm,\n",
    "    x=arabic_chars,\n",
    "    y=arabic_chars,\n",
    "    colorscale='Viridis',\n",
    "    text=text,  # Set the text for each square\n",
    "    showscale=False,  # Disable the color scale to avoid cluttering the visualization\n",
    "    hoverongaps=False,  # Disable hover on gaps to have consistent hover information\n",
    ")\n",
    "\n",
    "fig_cm = go.Figure(data=[heatmap])\n",
    "fig_cm.update_layout(\n",
    "    title='Confusion Matrix',\n",
    "    xaxis_title='Predicted Label',\n",
    "    yaxis_title='True Label',\n",
    "    width=800,\n",
    "    height=600,\n",
    "    template='plotly_dark',\n",
    "    xaxis=dict(\n",
    "        showgrid=True,  # Show gridlines along x-axis\n",
    "        gridwidth=1,  # Set the width of gridlines\n",
    "        gridcolor='white'  # Set the color of gridlines\n",
    "    ),\n",
    "    yaxis=dict(\n",
    "        showgrid=True,  # Show gridlines along y-axis\n",
    "        gridwidth=1,  # Set the width of gridlines\n",
    "        gridcolor='white'  # Set the color of gridlines\n",
    "    )\n",
    ")\n",
    "fig_cm.update_traces(hovertemplate='%{text}<extra></extra>')  # Use the text for hover information\n",
    "fig_cm.show()"
   ]
  },
  {
   "cell_type": "code",
   "execution_count": 29,
   "id": "e85899d8",
   "metadata": {
    "execution": {
     "iopub.execute_input": "2023-06-12T14:48:20.430255Z",
     "iopub.status.busy": "2023-06-12T14:48:20.429226Z",
     "iopub.status.idle": "2023-06-12T14:48:20.498731Z",
     "shell.execute_reply": "2023-06-12T14:48:20.497794Z"
    },
    "papermill": {
     "duration": 0.409364,
     "end_time": "2023-06-12T14:48:20.501145",
     "exception": false,
     "start_time": "2023-06-12T14:48:20.091781",
     "status": "completed"
    },
    "tags": []
   },
   "outputs": [],
   "source": [
    "# Save the model in .h5 format\n",
    "model.save('saved_model.h5')"
   ]
  },
  {
   "cell_type": "code",
   "execution_count": 30,
   "id": "149bf530",
   "metadata": {
    "execution": {
     "iopub.execute_input": "2023-06-12T14:48:21.231994Z",
     "iopub.status.busy": "2023-06-12T14:48:21.231637Z",
     "iopub.status.idle": "2023-06-12T14:48:21.243024Z",
     "shell.execute_reply": "2023-06-12T14:48:21.240718Z"
    },
    "papermill": {
     "duration": 0.355411,
     "end_time": "2023-06-12T14:48:21.247043",
     "exception": false,
     "start_time": "2023-06-12T14:48:20.891632",
     "status": "completed"
    },
    "tags": []
   },
   "outputs": [],
   "source": [
    "def predict_image(image_path, model_path):\n",
    "    # Load the model\n",
    "    model = load_model(model_path)\n",
    "\n",
    "    # Load and preprocess the image\n",
    "    img = cv2.imread(image_path, cv2.IMREAD_GRAYSCALE)\n",
    "    img = cv2.resize(img, (32, 32))\n",
    "    img = img.reshape(1, 32, 32, 1)\n",
    "    img = img.astype('float32') / 255.0\n",
    "\n",
    "    # Make the prediction\n",
    "    pred = model.predict(img)\n",
    "    predicted_label = arabic_chars[np.argmax(pred)]\n",
    "\n",
    "    return predicted_label\n",
    "\n",
    "def plot_image(image_path):\n",
    "    # Load the image\n",
    "    img = cv2.imread(image_path, cv2.IMREAD_GRAYSCALE)\n",
    "\n",
    "    # Plot the image\n",
    "    plt.imshow(img, cmap='gray')\n",
    "    plt.axis('off')\n",
    "    plt.show()\n"
   ]
  },
  {
   "cell_type": "code",
   "execution_count": 31,
   "id": "3be68332",
   "metadata": {
    "execution": {
     "iopub.execute_input": "2023-06-12T14:48:21.930991Z",
     "iopub.status.busy": "2023-06-12T14:48:21.930554Z",
     "iopub.status.idle": "2023-06-12T14:48:22.509112Z",
     "shell.execute_reply": "2023-06-12T14:48:22.507716Z"
    },
    "papermill": {
     "duration": 0.918272,
     "end_time": "2023-06-12T14:48:22.511130",
     "exception": false,
     "start_time": "2023-06-12T14:48:21.592858",
     "status": "completed"
    },
    "tags": []
   },
   "outputs": [
    {
     "name": "stdout",
     "output_type": "stream",
     "text": [
      "1/1 [==============================] - 0s 180ms/step\n",
      "Predicted label: zah\n"
     ]
    }
   ],
   "source": [
    "image_path = '/kaggle/input/ahcd1/Test Images 3360x32x32/test/id_1027_label_10.png'\n",
    "model_path = '/kaggle/working/saved_model.h5'\n",
    "\n",
    "prediction = predict_image(image_path, model_path)\n",
    "print('Predicted label:', prediction)"
   ]
  },
  {
   "cell_type": "code",
   "execution_count": 32,
   "id": "4df4edf2",
   "metadata": {
    "execution": {
     "iopub.execute_input": "2023-06-12T14:48:23.182696Z",
     "iopub.status.busy": "2023-06-12T14:48:23.182297Z",
     "iopub.status.idle": "2023-06-12T14:48:23.252842Z",
     "shell.execute_reply": "2023-06-12T14:48:23.251692Z"
    },
    "papermill": {
     "duration": 0.410637,
     "end_time": "2023-06-12T14:48:23.255043",
     "exception": false,
     "start_time": "2023-06-12T14:48:22.844406",
     "status": "completed"
    },
    "tags": []
   },
   "outputs": [
    {
     "data": {
      "image/png": "[encoded data removed]",
      "text/plain": [
       "<Figure size 640x480 with 1 Axes>"
      ]
     },
     "metadata": {},
     "output_type": "display_data"
    }
   ],
   "source": [
    "plot_image(image_path)"
   ]
  }
 ],
 "metadata": {
  "kernelspec": {
   "display_name": "Python 3",
   "language": "python",
   "name": "python3"
  },
  "language_info": {
   "codemirror_mode": {
    "name": "ipython",
    "version": 3
   },
   "file_extension": ".py",
   "mimetype": "text/x-python",
   "name": "python",
   "nbconvert_exporter": "python",
   "pygments_lexer": "ipython3",
   "version": "3.10.10"
  },
  "papermill": {
   "default_parameters": {},
   "duration": 442.057111,
   "end_time": "2023-06-12T14:48:28.027626",
   "environment_variables": {},
   "exception": null,
   "input_path": "__notebook__.ipynb",
   "output_path": "__notebook__.ipynb",
   "parameters": {},
   "start_time": "2023-06-12T14:41:05.970515",
   "version": "2.4.0"
  }
 },
 "nbformat": 4,
 "nbformat_minor": 5
}
